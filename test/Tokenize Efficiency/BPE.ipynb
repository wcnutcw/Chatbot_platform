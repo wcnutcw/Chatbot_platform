{
 "cells": [
  {
   "cell_type": "markdown",
   "id": "c62dbfa3",
   "metadata": {},
   "source": [
    "BPE Compair\n"
   ]
  },
  {
   "cell_type": "code",
   "execution_count": 15,
   "id": "6418f1a6",
   "metadata": {},
   "outputs": [
    {
     "name": "stdout",
     "output_type": "stream",
     "text": [
      "\n",
      "ข้อความภาษาไทย: เทคโนโลยีปัญญาประดิษฐ์กำลังเปลี่ยนแปลงโลกในทุกด้านอย่างรวดเร็วและมีประสิทธิภาพ\n",
      "\n",
      "Custom Tokenizer (BPE)\n",
      "Tokens: ['เทคโนโลยี', 'ปัญญาประดิษฐ์กำลั', 'งเปลี่ยนแปลงโล', 'ก', 'ใ', 'น', 'ท', 'ก', 'ด', '้', 'า', 'น', 'อ', 'ย่', 'างรวดเร็ว', 'แ', 'ล', 'ะ', 'มี', 'ปร', 'ะ', 'ส', 'ิ', 'ท', 'ิ', 'ภา']\n",
      "จำนวน Token: 26\n",
      "\n",
      "ThaiBERT Tokenizer\n",
      "Tokens: ['[CLS]', 'เ', '##ท', '##ค', '##โ', '##น', '##โ', '##ล', '##ย', '##ี', '##ป', '##ั', '##ญ', '##ญ', '##า', '##ป', '##ร', '##ะ', '##ด', '##ิ', '##ษ', '##ฐ', '##์', '##ก', '##ำ', '##ล', '##ัง', '##เ', '##ป', '##ลี', '##่', '##ยน', '##แ', '##ป', '##ล', '##ง', '##โ', '##ลก', '##ใน', '##ท', '##ุ', '##ก', '##ด้', '##าน', '##อย', '##่า', '##ง', '##ร', '##ว', '##ด', '##เ', '##ร', '##็', '##ว', '##แ', '##ล', '##ะ', '##มี', '##ป', '##ร', '##ะ', '##ส', '##ิ', '##ท', '##ธ', '##ิ', '##ภ', '##า', '##พ', '[SEP]']\n",
      "จำนวน Token: 70\n",
      "\n",
      "PyThaiNLP Tokenizer\n",
      "Tokens: ['เทคโนโลยี', 'ปัญญาประดิษฐ์', 'กำลัง', 'เปลี่ยนแปลง', 'โลก', 'ใน', 'ทุก', 'ด้าน', 'อย่าง', 'รวดเร็ว', 'และ', 'มีประสิทธิภาพ']\n",
      "จำนวน Token: 12\n"
     ]
    }
   ],
   "source": [
    "from transformers import BertTokenizer\n",
    "from pythainlp.tokenize import word_tokenize\n",
    "\n",
    "\n",
    "# =======================\n",
    "# โมเดล 1: Custom BPE Tokenizer\n",
    "# =======================\n",
    "from tokenizers import Tokenizer, models, pre_tokenizers, trainers\n",
    "\n",
    "custom_tokenizer = Tokenizer(models.BPE())\n",
    "custom_tokenizer.pre_tokenizer = pre_tokenizers.Whitespace()\n",
    "\n",
    "thai_sentences = [\n",
    "    \"ปัญญาประดิษฐ์กำลังเปลี่ยนแปลงโลกอย่างรวดเร็ว\",\n",
    "    \"เทคโนโลยีใหม่ๆ ทำให้ชีวิตเราสะดวกมากขึ้น\",\n",
    "    \"โมเดลภาษามีบทบาทสำคัญในการสื่อสารกับเครื่องจักร\"\n",
    "]\n",
    "trainer = trainers.BpeTrainer(vocab_size=200, min_frequency=1)\n",
    "custom_tokenizer.train_from_iterator(thai_sentences, trainer)\n",
    "\n",
    "# =======================\n",
    "# โมเดล 2: ThaiBERT Tokenizer (ใช้ bert-base-multilingual-cased แทน)\n",
    "# =======================\n",
    "thai_bert_tokenizer = BertTokenizer.from_pretrained(\"bert-base-multilingual-cased\")\n",
    "\n",
    "# =======================\n",
    "# โมเดล 3: PyThaiNLP Tokenizer\n",
    "# =======================\n",
    "def pythainlp_tokenizer(text):\n",
    "    return word_tokenize(text)\n",
    "\n",
    "# =======================\n",
    "# ข้อความที่ใช้ทดสอบ\n",
    "# =======================\n",
    "thai_text = \"เทคโนโลยีปัญญาประดิษฐ์กำลังเปลี่ยนแปลงโลกในทุกด้านอย่างรวดเร็วและมีประสิทธิภาพ\"\n",
    "\n",
    "# =======================\n",
    "# เปรียบเทียบผลลัพธ์จากแต่ละโมเดล\n",
    "# =======================\n",
    "custom_output = custom_tokenizer.encode(thai_text)\n",
    "thai_bert_output = thai_bert_tokenizer.encode(thai_text)\n",
    "pythainlp_output = pythainlp_tokenizer(thai_text)\n",
    "\n",
    "# =======================\n",
    "# แสดงผล\n",
    "# =======================\n",
    "print(f\"\\nข้อความภาษาไทย: {thai_text}\")\n",
    "\n",
    "print(\"\\nCustom Tokenizer (BPE)\")\n",
    "print(\"Tokens:\", custom_output.tokens)\n",
    "print(\"จำนวน Token:\", len(custom_output))\n",
    "\n",
    "print(\"\\nThaiBERT Tokenizer\")\n",
    "print(\"Tokens:\", thai_bert_tokenizer.convert_ids_to_tokens(thai_bert_output))\n",
    "print(\"จำนวน Token:\", len(thai_bert_output))\n",
    "\n",
    "print(\"\\nPyThaiNLP Tokenizer\")\n",
    "print(\"Tokens:\", pythainlp_output)\n",
    "print(\"จำนวน Token:\", len(pythainlp_output))\n"
   ]
  },
  {
   "cell_type": "code",
   "execution_count": null,
   "id": "810350dc",
   "metadata": {},
   "outputs": [],
   "source": []
  }
 ],
 "metadata": {
  "kernelspec": {
   "display_name": "venv",
   "language": "python",
   "name": "python3"
  },
  "language_info": {
   "codemirror_mode": {
    "name": "ipython",
    "version": 3
   },
   "file_extension": ".py",
   "mimetype": "text/x-python",
   "name": "python",
   "nbconvert_exporter": "python",
   "pygments_lexer": "ipython3",
   "version": "3.13.1"
  }
 },
 "nbformat": 4,
 "nbformat_minor": 5
}
