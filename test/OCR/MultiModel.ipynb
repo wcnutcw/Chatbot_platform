{
 "cells": [
  {
   "cell_type": "code",
   "execution_count": 1,
   "id": "cf1ee683",
   "metadata": {},
   "outputs": [
    {
     "name": "stdout",
     "output_type": "stream",
     "text": [
      "Current Directory: c:\\Users\\user\\OneDrive\\Desktop\\Test_BOT_CSV\\test\\OCR\n",
      "Env Path: c:\\Users\\user\\OneDrive\\Desktop\\Test_BOT_CSV\\venv\\.env\n"
     ]
    }
   ],
   "source": [
    "import pdfplumber\n",
    "import fitz  # PyMuPDF\n",
    "import base64\n",
    "from IPython.display import display, Image as IPImage\n",
    "from langchain_openai import ChatOpenAI\n",
    "from langchain_core.prompts import ChatPromptTemplate\n",
    "from langchain_core.output_parsers import StrOutputParser\n",
    "import os \n",
    "from dotenv import load_dotenv\n",
    "import nest_asyncio\n",
    "from pathlib import Path\n",
    "from openai import OpenAI\n",
    "import contextlib\n",
    "from langchain.chains.summarize import load_summarize_chain\n",
    "from langchain_core.documents import Document\n",
    "import logging\n",
    "from langchain.text_splitter import RecursiveCharacterTextSplitter\n",
    "import fitz  # PyMuPDF\n",
    "from docx import Document\n",
    "\n",
    "\n",
    "current_directory = os.getcwd()\n",
    "print(\"Current Directory:\", current_directory)  # พิมพ์ที่อยู่ปัจจุบัน\n",
    "\n",
    "# ปรับเส้นทางไปยังไฟล์ .env ในโฟลเดอร์ venv\n",
    "env_path = Path(current_directory).parent.parent / 'venv' / '.env'\n",
    "print(\"Env Path:\", env_path)  # พิมพ์เส้นทางที่ไปยัง .env\n",
    "\n",
    "load_dotenv(dotenv_path=env_path)\n",
    "\n",
    "\n",
    "nest_asyncio.apply()"
   ]
  },
  {
   "cell_type": "code",
   "execution_count": 16,
   "id": "9d0f41ea",
   "metadata": {},
   "outputs": [],
   "source": [
    "# keys for the services we will use\n",
    "OPENAI_API_KEY : str \n",
    "GROQ_API_KEY : str\n",
    "LANGCHAIN_API_KEY : str\n",
    "OPENAI_API_KEY = os.getenv(\"OPENAI_API_KEY\")\n",
    "LANGCHAIN_API_KEY = os.getenv('LANGCHAIN_API_KEY')"
   ]
  },
  {
   "cell_type": "code",
   "execution_count": 17,
   "id": "a7c06248",
   "metadata": {},
   "outputs": [],
   "source": [
    "# ---------- อ่าน PDF: ข้อความ + ตาราง ----------\n",
    "text_content = \"\"\n",
    "tables_content = []\n",
    "images_b64 = []\n",
    "file_path_pdf = './test_data/NIPS-2017-attention-is-all-you-need-Paper.pdf'\n",
    "with pdfplumber.open(file_path_pdf) as pdf:\n",
    "    for page_num, page in enumerate(pdf.pages, start=1):\n",
    "        try:\n",
    "            text = page.extract_text()\n",
    "            if text:\n",
    "                text_content += f\"\\n--- Page {page_num} ---\\n{text}\"\n",
    "            \n",
    "            tables = page.extract_tables()\n",
    "            if tables:\n",
    "                for table in tables:\n",
    "                    if table:\n",
    "                        tables_content.append(table)\n",
    "\n",
    "        except Exception as e:\n",
    "            print(f\"❌ Error processing page {page_num}: {e}\")\n",
    "\n",
    "logging.getLogger(\"pdfminer\").setLevel(logging.ERROR)"
   ]
  },
  {
   "cell_type": "code",
   "execution_count": 32,
   "id": "aaaabaab",
   "metadata": {},
   "outputs": [
    {
     "name": "stdout",
     "output_type": "stream",
     "text": [
      "พบรูปภาพจำนวน: 3\n"
     ]
    }
   ],
   "source": [
    "# --------- ดึงรูปภาพจาก PyMuPDF ---------\n",
    "# เปิดไฟล์ PDF\n",
    "doc = fitz.open(file_path_pdf)\n",
    "\n",
    "# สร้าง list สำหรับเก็บ base64 ของรูปภาพ\n",
    "images_b64 = []\n",
    "\n",
    "# ลูปผ่านแต่ละหน้าใน PDF\n",
    "for page_index in range(len(doc)):\n",
    "    page = doc.load_page(page_index)  # โหลดหน้าปัจจุบัน\n",
    "    images = page.get_images(full=True)  # ดึงข้อมูลรูปภาพทั้งหมดในหน้านั้น\n",
    "    \n",
    "    for img_index, img in enumerate(images):\n",
    "        xref = img[0]  # ดึง xref ของรูปภาพ\n",
    "        base_image = doc.extract_image(xref)  # Extract รูปภาพ\n",
    "        image_bytes = base_image[\"image\"]  # ข้อมูลรูปภาพ\n",
    "        image_b64 = base64.b64encode(image_bytes).decode(\"utf-8\")  # แปลงเป็น base64\n",
    "        images_b64.append(image_b64)  # เก็บไว้ใน list\n",
    "\n",
    "print(f\"พบรูปภาพจำนวน: {len(images_b64)}\")\n"
   ]
  },
  {
   "cell_type": "code",
   "execution_count": 19,
   "id": "bcc71b5e",
   "metadata": {},
   "outputs": [
    {
     "name": "stdout",
     "output_type": "stream",
     "text": [
      "📄 ข้อความจาก DOCX: 29422 อักขระ\n",
      "📊 จำนวนตารางที่ดึงได้จาก DOCX: 1\n",
      "🖼️ จำนวนรูปภาพที่ดึงได้จาก DOCX: 3\n"
     ]
    }
   ],
   "source": [
    "\n",
    "print(f\"📄 ข้อความจาก DOCX: {len(text_content)} อักขระ\")\n",
    "print(f\"📊 จำนวนตารางที่ดึงได้จาก DOCX: {len(tables_content)}\")\n",
    "print(f\"🖼️ จำนวนรูปภาพที่ดึงได้จาก DOCX: {len(images_b64)}\")"
   ]
  },
  {
   "cell_type": "code",
   "execution_count": 35,
   "id": "c56e80a1",
   "metadata": {},
   "outputs": [
    {
     "name": "stdout",
     "output_type": "stream",
     "text": [
      "✅ พบรูปภาพทั้งหมด 21 รูปภาพใน DOCX\n",
      "📄 ข้อความจาก DOCX: 103593 อักขระ\n",
      "📊 จำนวนตารางที่ดึงได้จาก DOCX: 14\n",
      "🖼️ จำนวนรูปภาพที่ดึงได้จาก DOCX: 21\n"
     ]
    }
   ],
   "source": [
    "file_path_docx = '../data_docx/Fundamentals-Machine-Learning-Analyzing-Data-with-Python.docx'\n",
    "doc = Document(file_path_docx)\n",
    "\n",
    "text_docx = \"\"\n",
    "tables_content_docx = []\n",
    "images_b64_doc = []\n",
    "\n",
    "# ---------- อ่านข้อความจาก paragraph ----------\n",
    "for para in doc.paragraphs:\n",
    "    text_docx += para.text + \"\\n\"\n",
    "\n",
    "# ---------- อ่านตาราง ----------\n",
    "for table_idx, table in enumerate(doc.tables):\n",
    "    table_data = []\n",
    "    for row in table.rows:\n",
    "        row_data = [cell.text.strip() for cell in row.cells]\n",
    "        table_data.append(row_data)\n",
    "    tables_content_docx.append(table_data)\n",
    "\n",
    "# ---------- อ่านรูปภาพจาก inline_shapes ----------\n",
    "for i, shape in enumerate(doc.inline_shapes):\n",
    "    try:\n",
    "        # ดึงข้อมูลภาพจากไฟล์ .docx\n",
    "        image = shape._inline.graphic.graphicData.pic.blipFill.blip.embed\n",
    "        image_part = doc.part.related_parts[image]\n",
    "        image_bytes = image_part.blob\n",
    "\n",
    "        # แปลงรูปภาพเป็น base64\n",
    "        image_b64 = base64.b64encode(image_bytes).decode(\"utf-8\")\n",
    "        \n",
    "        # เก็บ base64 ของรูปภาพใน list\n",
    "        images_b64_doc.append(image_b64)\n",
    "\n",
    "    except Exception as e:\n",
    "        print(f\"❌ Error extracting DOCX image {i+1}: {e}\")\n",
    "\n",
    "# ตรวจสอบจำนวนภาพที่ได้\n",
    "print(f\"✅ พบรูปภาพทั้งหมด {len(images_b64_doc)} รูปภาพใน DOCX\")\n",
    "\n",
    "# ---------- สรุปผล ----------\n",
    "text_content += f\"\\n--- DOCX Content ---\\n{text_docx}\"\n",
    "print(f\"📄 ข้อความจาก DOCX: {len(text_docx)} อักขระ\")\n",
    "print(f\"📊 จำนวนตารางที่ดึงได้จาก DOCX: {len(tables_content_docx)}\")\n",
    "print(f\"🖼️ จำนวนรูปภาพที่ดึงได้จาก DOCX: {len(images_b64_doc)}\")"
   ]
  },
  {
   "cell_type": "code",
   "execution_count": 21,
   "id": "4236666f",
   "metadata": {},
   "outputs": [],
   "source": [
    "# --------- การแสดงผลภาพ ---------\n",
    "def display_base64_image(base64_code):\n",
    "    image_data = base64.b64decode(base64_code)\n",
    "    display(IPImage(data=image_data))\n",
    "\n",
    "# change index look another image\n",
    "# display_base64_image(images_b64[1])    "
   ]
  },
  {
   "cell_type": "code",
   "execution_count": 11,
   "id": "daf31d1d",
   "metadata": {},
   "outputs": [
    {
     "data": {
      "image/png": "[encoded data removed]",
      "text/plain": [
       "<IPython.core.display.Image object>"
      ]
     },
     "metadata": {},
     "output_type": "display_data"
    }
   ],
   "source": [
    "display_base64_image(images_b64_doc[11]) #docx"
   ]
  },
  {
   "cell_type": "code",
   "execution_count": 12,
   "id": "740791a7",
   "metadata": {},
   "outputs": [
    {
     "name": "stdout",
     "output_type": "stream",
     "text": [
      "ภาพที่นำเสนอเป็นแผนภาพที่แสดงถึงกระบวนการทำงานของโมเดลการเรียนรู้เชิงลึก โดยเฉพาะในบริบทของการประมวลผลข้อมูลที่เกี่ยวข้องกับการทำ Attention Mechanism ซึ่งเป็นส่วนสำคัญในโมเดล Transformer ที่ใช้ในงานด้านการประมวลผลภาษาธรรมชาติ (Natural Language Processing) และการเรียนรู้เชิงลึกอื่น ๆ\n",
      "\n",
      "1. องค์ประกอบหลักในภาพ\n",
      "   - องค์ประกอบหลักในภาพประกอบด้วยกล่องที่มีชื่อว่า \"MatMul\" สองกล่อง ซึ่งแสดงถึงการคูณเมทริกซ์ (Matrix Multiplication) ที่เกิดขึ้นในกระบวนการ\n",
      "   - กล่อง \"SoftMax\" ซึ่งทำหน้าที่ในการปรับค่าความน่าจะเป็นให้รวมกันเป็นหนึ่ง\n",
      "   - กล่อง \"Mask (opt.)\" ซึ่งเป็นตัวเลือกในการปิดกั้นข้อมูลบางส่วนเพื่อป้องกันการรั่วไหลของข้อมูลในระหว่างการฝึก\n",
      "   - กล่อง \"Scale\" ที่ใช้ในการปรับขนาดค่าที่ได้จากการคูณเมทริกซ์\n",
      "\n",
      "2. องค์ประกอบรอง\n",
      "   - องค์ประกอบรองในภาพ ได้แก่ Q, K, และ V ซึ่งเป็นตัวแทนของ Query, Key, และ Value ตามลำดับ ซึ่งเป็นข้อมูลที่ใช้ในการคำนวณ Attention\n",
      "   - การเชื่อมโยงระหว่าง Q, K, และ V กับกล่อง MatMul แสดงถึงการคูณเมทริกซ์ระหว่างข้อมูลเหล่านี้เพื่อคำนวณค่าความสนใจ\n",
      "\n",
      "3. ลำดับความสัมพันธ์ของข้อมูล\n",
      "   - ขั้นตอนแรกเริ่มจากการคูณเมทริกซ์ระหว่าง Q และ K ในกล่อง MatMul แรก ซึ่งจะให้ค่าที่ใช้ในการคำนวณความสนใจ\n",
      "   - ขั้นตอนถัดไปคือการปรับขนาดค่าที่ได้จากการคูณเมทริกซ์ในกล่อง Scale เพื่อให้ค่าที่ได้มีความเหมาะสมสำหรับการคำนวณ\n",
      "   - หลังจากนั้นจะมีการใช้ Mask (ถ้ามี) เพื่อปิดกั้นข้อมูลที่ไม่ต้องการ\n",
      "   - ค่าที่ได้จะถูกส่งไปยังกล่อง SoftMax เพื่อปรับให้เป็นค่าความน่าจะเป็น\n",
      "   - สุดท้าย ค่าความน่าจะเป็นที่ได้จะถูกนำไปคูณกับ V ในกล่อง MatMul ที่สอง เพื่อให้ได้ผลลัพธ์สุดท้าย\n",
      "\n",
      "การวิเคราะห์นี้แสดงให้เห็นถึงความซับซ้อนและความสัมพันธ์ระหว่างองค์ประกอบต่าง ๆ ในกระบวนการทำงานของ Attention Mechanism ซึ่งเป็นพื้นฐานสำคัญในการพัฒนาโมเดลการเรียนรู้เชิงลึกในปัจจุบัน\n"
     ]
    }
   ],
   "source": [
    "client = OpenAI(api_key=OPENAI_API_KEY)\n",
    "\n",
    "image_b64 = images_b64[2]\n",
    "\n",
    "prompt = \"\"\"\n",
    "กรุณาวิเคราะห์และอธิบายภาพด้านล่างอย่างละเอียด โดยเน้นการนำเสนอในเชิงวิชาการ เพื่อให้เหมาะสมสำหรับการนำไปใช้ในเอกสารวิจัยหรือเอกสารวิชาการทั่วไป\n",
    "\n",
    "ข้อกำหนดการอธิบาย:\n",
    "1. วิเคราะห์องค์ประกอบที่ปรากฏในภาพอย่างละเอียด ทั้งในเชิงโครงสร้าง เนื้อหา และความสัมพันธ์ของข้อมูล\n",
    "2. หากภาพนั้นเป็นกราฟหรือแผนภูมิ ให้ระบุข้อมูลที่ปรากฏบนแกน X และแกน Y อย่างชัดเจน แต่หากไม่มีแกนดังกล่าว สามารถข้ามข้อนี้ได้\n",
    "3. อธิบายลำดับความสัมพันธ์ของข้อมูลหรือองค์ประกอบต่าง ๆ โดยนำเสนอในรูปแบบลำดับขั้นตอน (Step-by-step) เริ่มจากองค์ประกอบหลักก่อน แล้วจึงอธิบายองค์ประกอบรองตามลำดับ\n",
    "4. ต้องเขียนด้วยข้อความธรรมดาเท่านั้น ห้ามใช้รูปแบบ Markdown เช่น การทำตัวหนา ตัวเอียง หรือการเน้นข้อความด้วยสัญลักษณ์พิเศษ เช่น ** ## * _\n",
    "5. เนื้อหาต้องจัดเรียงให้อ่านง่าย ชัดเจน เป็นระบบ และมีความต่อเนื่องของตรรกะ\n",
    "6. ใช้ภาษาทางวิชาการที่สุภาพ ถูกต้อง และสมบูรณ์ เหมาะสมสำหรับการนำไปใช้อ้างอิงในงานวิจัยหรือเอกสารวิชาการในทุกสาขา\n",
    "\n",
    "หมายเหตุ: คำอธิบายควรมีความละเอียด ครอบคลุม และคำนึงถึงความสมบูรณ์ของเนื้อหาเป็นสำคัญ\n",
    "\"\"\"\n",
    "\n",
    "response = client.chat.completions.create(\n",
    "    model=\"gpt-4o-mini\",\n",
    "    messages=[\n",
    "        {\n",
    "            \"role\": \"user\",\n",
    "            \"content\": [\n",
    "                {\n",
    "                    \"type\": \"text\",\n",
    "                    \"text\": prompt\n",
    "                },\n",
    "                {\n",
    "                    \"type\": \"image_url\",\n",
    "                    \"image_url\": {\n",
    "                        \"url\": f\"data:image/jpeg;base64,{image_b64}\"\n",
    "                    }\n",
    "                }\n",
    "            ]\n",
    "        }\n",
    "    ],\n",
    "    temperature=0\n",
    ")\n",
    "\n",
    "# แสดงผลลัพธ์\n",
    "print(response.choices[0].message.content)"
   ]
  },
  {
   "cell_type": "code",
   "execution_count": 10,
   "id": "081bccdd",
   "metadata": {},
   "outputs": [
    {
     "data": {
      "image/png": "[encoded data removed]",
      "text/plain": [
       "<IPython.core.display.Image object>"
      ]
     },
     "metadata": {},
     "output_type": "display_data"
    }
   ],
   "source": [
    "display_base64_image(images_b64[2])"
   ]
  },
  {
   "cell_type": "markdown",
   "id": "c6a3e169",
   "metadata": {},
   "source": [
    "Read text"
   ]
  },
  {
   "cell_type": "code",
   "execution_count": null,
   "id": "ba87b453",
   "metadata": {},
   "outputs": [],
   "source": [
    "llm = ChatOpenAI(model=\"gpt-4o-mini\", temperature=0.5)\n",
    "summarize_chain = load_summarize_chain(llm, chain_type=\"stuff\")\n",
    "text_documents = [Document(page_content=text_content)]\n"
   ]
  },
  {
   "cell_type": "code",
   "execution_count": 13,
   "id": "c6376cc7",
   "metadata": {},
   "outputs": [],
   "source": [
    "text_splitter = RecursiveCharacterTextSplitter(\n",
    "    chunk_size=2000,\n",
    "    chunk_overlap=200,  # ให้มีบริบทซ้อนเล็กน้อย\n",
    ")"
   ]
  },
  {
   "cell_type": "code",
   "execution_count": 14,
   "id": "ab0b1ff3",
   "metadata": {},
   "outputs": [],
   "source": [
    "documents = text_splitter.create_documents([text_content])\n"
   ]
  },
  {
   "cell_type": "code",
   "execution_count": 15,
   "id": "b014b55f",
   "metadata": {},
   "outputs": [
    {
     "name": "stdout",
     "output_type": "stream",
     "text": [
      "🔍 Summarizing chunk 1/17...\n",
      "🔍 Summarizing chunk 2/17...\n",
      "🔍 Summarizing chunk 3/17...\n",
      "🔍 Summarizing chunk 4/17...\n",
      "🔍 Summarizing chunk 5/17...\n",
      "🔍 Summarizing chunk 6/17...\n",
      "🔍 Summarizing chunk 7/17...\n",
      "🔍 Summarizing chunk 8/17...\n",
      "🔍 Summarizing chunk 9/17...\n",
      "🔍 Summarizing chunk 10/17...\n",
      "🔍 Summarizing chunk 11/17...\n",
      "🔍 Summarizing chunk 12/17...\n",
      "🔍 Summarizing chunk 13/17...\n",
      "🔍 Summarizing chunk 14/17...\n",
      "🔍 Summarizing chunk 15/17...\n",
      "🔍 Summarizing chunk 16/17...\n",
      "🔍 Summarizing chunk 17/17...\n"
     ]
    }
   ],
   "source": [
    "# สรุปแต่ละ chunk ทีละตัว\n",
    "text_summaries = []\n",
    "for i, doc in enumerate(documents):\n",
    "    print(f\"🔍 Summarizing chunk {i+1}/{len(documents)}...\")\n",
    "    summary = summarize_chain.invoke({\"input_documents\": [doc]})\n",
    "    text_summaries.append(summary[\"output_text\"])"
   ]
  },
  {
   "cell_type": "code",
   "execution_count": 16,
   "id": "ca290526",
   "metadata": {},
   "outputs": [],
   "source": [
    "# รวมทั้งหมดเป็นข้อความเดียว\n",
    "full_summary = \"\\n\\n\".join(text_summaries)"
   ]
  },
  {
   "cell_type": "code",
   "execution_count": 17,
   "id": "51e86b34",
   "metadata": {},
   "outputs": [
    {
     "name": "stdout",
     "output_type": "stream",
     "text": [
      "\n",
      "✅ Full Summary:\n",
      " Google Brain researchers propose a new network architecture called the Transformer, which is based solely on attention mechanisms and does not include recurrent or convolutional neural networks. Experiments on two machine translation tasks show these models to be superior in quality, more parallelizable, and require less time to train. The model achieved a new single-model state-of-the-art BLEU score of 41.0 after training for 3.5 days on eight GPUs, improving over the existing best results.\n",
      "\n",
      "Ashish and Illia designed and implemented the first Transformer models, with Noam proposing key features such as scaled dot-product attention, multi-head attention, and the parameter-free position representation. Niki and Llion were responsible for designing, implementing, and evaluating numerous model variants, while Lukasz and Aidan worked on developing the tensor2tensor codebase. The work was performed at Google Brain and Google Research. The Transformer model is a new architecture that avoids recurrence and instead relies entirely on an attention mechanism to draw global dependencies between input and output. This approach allows for parallelization within training examples, addressing the limitations of sequential computation in recurrent models.\n",
      "\n",
      "The authors propose a new model architecture called the Transformer, which relies entirely on an attention mechanism to draw global dependencies between input and output, allowing for more parallelization. This model can achieve state-of-the-art translation quality after being trained for as little as twelve hours on eight P100 GPUs. The Transformer differs from other models in that it doesn't use sequence-aligned RNNs or convolution, instead relying entirely on self-attention to compute representations of its input and output. The authors argue that this approach has several advantages over other models.\n",
      "\n",
      "The article discusses the architecture of the Transformer model, which is a neural sequence transduction model with an encoder-decoder structure. The encoder maps an input sequence of symbols to a continuous sequence, which the decoder then uses to generate an output sequence one element at a time. This model uses stacked self-attention and point-wise, fully connected layers for both the encoder and decoder. The encoder is composed of six identical layers, each with a multi-head self-attention mechanism and a simple, position-wise fully connected feed-forward network. The decoder also has six identical layers and includes a third sub-layer that performs multi-head attention over the encoder's output. The model employs residual connections and layer normalization.\n",
      "\n",
      "The text discusses modifications to the self-attention sub-layer in the decoder stack to prevent positions from attending to subsequent positions. It introduces the attention function, which maps a query and a set of key-value pairs to an output. The output is computed as a weighted sum of the values, with the weight assigned to each value computed by a compatibility function of the query with the corresponding key. The text also introduces the \"Scaled Dot-Product Attention\" and \"Multi-Head Attention\", which are attention functions commonly used in practice. The former is faster and more space-efficient as it can be implemented using highly optimized matrix multiplication code.\n",
      "\n",
      "The article discusses the efficiency of additive attention over dot product attention for larger values in machine learning models. It introduces the concept of Multi-Head Attention, which allows the model to attend to information from different representation subspaces simultaneously. This is done by linearly projecting queries, keys, and values with different learned linear projections and performing the attention function in parallel. The article also mentions the use of multi-head attention in three different ways in the Transformer model.\n",
      "\n",
      "The Transformer model uses multi-head attention in three ways: encoder-decoder attention layers, self-attention layers in the encoder, and self-attention layers in the decoder. The encoder-decoder attention allows every position in the decoder to attend to all positions in the input sequence. The self-attention layers in the encoder and decoder allow each position to attend to all positions in the previous layer. Additionally, each layer in the encoder and decoder contains a fully connected feed-forward network applied to each position. The model also uses learned embeddings to convert input and output tokens to vectors.\n",
      "\n",
      "The model discussed uses tokens and output tokens to predict next-token probabilities through a learned linear transformation and softmax function. It also uses shared weight matrices between two embedding layers and a pre-softmax linear transformation. The model uses positional encodings to make use of the order of the sequence, adding these to the input embeddings at the bottom of the encoder and decoder stacks. The model uses sine and cosine functions of different frequencies for positional encodings, which allow the model to easily learn to attend by relative positions. The use of learned positional embeddings produced nearly identical results.\n",
      "\n",
      "The researchers experimented with using learned positional embeddings and found that the results were nearly identical to the sinusoidal version. They chose the sinusoidal version as it might allow the model to extrapolate to sequence lengths longer than those encountered during training. They compared self-attention layers to recurrent and convolutional layers commonly used for mapping variable-length sequence of symbol representations. They found that self-attention layers are faster than recurrent layers when the sequence length is smaller than the representation dimensionality, which is often the case with sentence representations used in machine translations.\n",
      "\n",
      "The text discusses the use of state-of-the-art models in machine translations, such as word-piece and byte-pair representations. It suggests that to improve computational performance for tasks involving long sequences, self-attention could be restricted to considering only a neighborhood of size r in the input sequence. The text also mentions the use of a single convolutional layer with kernel width k and the benefits of separable convolutions. It further notes that self-attention could yield more interpretable models. The training regime for the models is described, with data from the standard WMT 2014 English-German dataset and the larger WMT 2014 English-French dataset being used.\n",
      "\n",
      "The article discusses the use of a machine learning model that was trained on a machine with eight NVIDIA P100 GPUs. The training consisted of 100,000 steps, or 12 hours, for base models, and 300,000 steps, or 3.5 days, for larger models. The Adam optimizer was used, with a learning rate that increased linearly for the first 4000 steps and decreased proportionally thereafter. The model also employed three types of regularization during training. The Transformer model achieved better BLEU scores than previous models on English-to-German and English-to-French tests at a fraction of the training cost.\n",
      "\n",
      "The big transformer model (Transformer(big)) outperforms all previously reported models in the WMT 2014 English-to-German and English-to-French translation tasks, establishing a new state-of-the-art BLEU score of 28.4 and 41.0 respectively. The model also reduces training costs significantly compared to competitive models. This was achieved by employing label smoothing during training, averaging the last 5 checkpoints for base models and the last 20 for big models, and using a beam search with a beam size of 4 and length penalty of 0.6.\n",
      "\n",
      "The study evaluates the importance of different components of the Transformer model by varying the base model in different ways and measuring the performance change on English-to-German translation. It finds that while single-head attention is worse than the best setting, quality also drops off with too many heads. Reducing the attention key size hurts model quality, suggesting a more sophisticated compatibility function than dot product may be beneficial. Bigger models are better and dropout is very helpful in avoiding over-fitting. Replacing sinusoidal positional encoding with learned positional embeddings yields nearly identical results to the base model.\n",
      "\n",
      "The Transformer, the first sequence transduction model based entirely on attention, was presented in this work. It replaces the recurrent layers typically used in encoder-decoder architectures with multi-headed self-attention. The Transformer can be trained significantly faster than architectures based on recurrent or convolutional layers and has achieved a new state of the art in both the WMT 2014 English-to-German and English-to-French translation tasks. The authors plan to apply the Transformer to other tasks and modalities and to investigate local, restricted attention mechanisms to handle large inputs and outputs. The code used in this study is available on GitHub.\n",
      "\n",
      "This is a list of references to various scholarly articles and preprints. The topics covered include deep learning, recurrent neural networks, machine translation, and language modeling. Notable authors include Yoshua Bengio, Francois Chollet, and Jurgen Schmidhuber. The works cited include foundational papers on Long Short-Term Memory (LSTM) networks and more recent research on convolutional sequence to sequence learning and deep residual learning for image recognition.\n",
      "\n",
      "The document appears to be a list of references from a scientific paper or report, focusing on the field of machine learning and neural networks. Some of the topics covered include stochastic optimization, LSTM networks, sentence embedding, attention-based neural machine translation, and sequence to sequence learning. The authors of these works include prominent figures in the field such as Geoffrey Hinton, Yoshua Bengio, and Ilya Sutskever.\n",
      "\n",
      "The text refers to various studies and papers related to advances in neural information processing systems and machine translation. This includes work on sequence to sequence learning, a rethinking of the inception architecture for computer vision, and developments in Google's neural machine translation system. There is also mention of research into deep recurrent models with fast-forward connections for neural machine translation.\n"
     ]
    }
   ],
   "source": [
    "# แสดงผล\n",
    "print(\"\\n✅ Full Summary:\\n\", full_summary)"
   ]
  },
  {
   "cell_type": "markdown",
   "id": "aace9255",
   "metadata": {},
   "source": [
    "Read Table"
   ]
  },
  {
   "cell_type": "code",
   "execution_count": 21,
   "id": "b7e9ca2c",
   "metadata": {},
   "outputs": [],
   "source": [
    "# แปลงตารางเป็นข้อความ\n",
    "table_texts = []\n",
    "for table in tables_content:\n",
    "    # แปลงแต่ละแถวของตารางเป็นข้อความ\n",
    "    table_text = \"\\n\".join([\"\\t\".join(row) for row in table if row])  # ใช้ tab คั่นระหว่างคอลัมน์\n",
    "    table_texts.append(table_text)\n"
   ]
  },
  {
   "cell_type": "code",
   "execution_count": 24,
   "id": "850761f5",
   "metadata": {},
   "outputs": [],
   "source": [
    "# สร้าง Document สำหรับตาราง\n",
    "table_documents = [Document(page_content=table_text) for table_text in table_texts]"
   ]
  },
  {
   "cell_type": "code",
   "execution_count": 25,
   "id": "1db2b63f",
   "metadata": {},
   "outputs": [
    {
     "name": "stdout",
     "output_type": "stream",
     "text": [
      "🔍 Summarizing tables...\n"
     ]
    }
   ],
   "source": [
    "# สรุปตาราง\n",
    "print(\"🔍 Summarizing tables...\")\n",
    "table_summaries = []\n",
    "for doc in table_documents:\n",
    "    summary = summarize_chain.invoke({\"input_documents\": [doc]})\n",
    "    table_summaries.append(summary[\"output_text\"])\n"
   ]
  },
  {
   "cell_type": "code",
   "execution_count": 27,
   "id": "d3e3c3df",
   "metadata": {},
   "outputs": [],
   "source": [
    "# รวมผลสรุป\n",
    "full_table_summary = \"\\n\\n\".join(table_summaries)"
   ]
  },
  {
   "cell_type": "code",
   "execution_count": 28,
   "id": "3dae3a4f",
   "metadata": {},
   "outputs": [
    {
     "name": "stdout",
     "output_type": "stream",
     "text": [
      "\n",
      "✅ Full Table Summary:\n",
      " The text appears to be a list of parameters or settings for a machine learning model or algorithm, possibly related to neural networks or deep learning. It includes values for model layers, dimensionalities, dropout rates, learning rates, and training steps. There's also a mention of using positional embedding instead of sinusoids, which suggests a specific approach to handling sequential data.\n"
     ]
    }
   ],
   "source": [
    "# แสดงผล\n",
    "print(\"\\n✅ Full Table Summary:\\n\", full_table_summary)"
   ]
  },
  {
   "cell_type": "markdown",
   "id": "af0f7a21",
   "metadata": {},
   "source": [
    "# EMBEDDING"
   ]
  },
  {
   "cell_type": "code",
   "execution_count": 13,
   "id": "d9fadb43",
   "metadata": {},
   "outputs": [
    {
     "name": "stdout",
     "output_type": "stream",
     "text": [
      "✅ สร้าง embedding ข้อความแล้ว: จำนวนเวกเตอร์ = 137\n"
     ]
    }
   ],
   "source": [
    "# Embedding text docx\n",
    "import asyncio\n",
    "from openai import AsyncOpenAI\n",
    "import textwrap\n",
    "\n",
    "# ตัดข้อความเป็นช่วง ๆ ละ 800 ตัวอักษร (ประมาณ 300-500 token)\n",
    "client_openai = AsyncOpenAI(api_key=OPENAI_API_KEY)\n",
    "EMBEDDING = \"text-embedding-3-small\"\n",
    "\n",
    "# รวมข้อความจาก docx และตาราง\n",
    "all_text = text_docx + \"\\n\"\n",
    "for table in tables_content_docx:\n",
    "    for row in table:\n",
    "        all_text += \" | \".join(row) + \"\\n\"\n",
    "\n",
    "# แบ่งข้อความก่อน\n",
    "split_text = textwrap.wrap(all_text, width=800)\n",
    "\n",
    "# ฟังก์ชันสำหรับ embed ทีละ batch\n",
    "async def embed_batch(batch, embed_model):\n",
    "    response = await client_openai.embeddings.create(model=embed_model, input=batch)\n",
    "    return [item.embedding for item in response.data]\n",
    "\n",
    "# ฟังก์ชันจัดการ batch ทั้งหมด\n",
    "async def batch_process_embedding_async(text_list, embed_model, batch_size=100):\n",
    "    assert isinstance(text_list, list), \"❌ text_list ต้องเป็น list ของข้อความ\"\n",
    "    tasks = []\n",
    "    for i in range(0, len(text_list), batch_size):\n",
    "        batch = text_list[i:i + batch_size]\n",
    "        tasks.append(embed_batch(batch, embed_model))\n",
    "    results = await asyncio.gather(*tasks)\n",
    "    embeddings = [embedding for batch in results for embedding in batch]\n",
    "    return embeddings\n",
    "\n",
    "# สร้าง embeddings\n",
    "embeddings = await batch_process_embedding_async(split_text, EMBEDDING)\n",
    "print(f\"✅ สร้าง embedding ข้อความแล้ว: จำนวนเวกเตอร์ = {len(embeddings)}\")\n"
   ]
  },
  {
   "cell_type": "code",
   "execution_count": 25,
   "id": "ca7342b1",
   "metadata": {},
   "outputs": [
    {
     "name": "stdout",
     "output_type": "stream",
     "text": [
      "✅ สร้าง embedding จาก 15 ตารางแล้ว\n"
     ]
    }
   ],
   "source": [
    "table_embeddings = []\n",
    "\n",
    "for table in tables_content_docx:\n",
    "    table_text = \"\\n\".join([\" | \".join(row) for row in table])\n",
    "    split_text = textwrap.wrap(table_text, width=800)  # ✅ ต้องอยู่ในลูป\n",
    "    embedding_response = await batch_process_embedding_async(split_text, EMBEDDING)\n",
    "    table_embeddings.extend(embedding_response)\n",
    "\n",
    "print(f\"✅ สร้าง embedding จาก {len(table_embeddings)} ตารางแล้ว\")\n"
   ]
  },
  {
   "cell_type": "code",
   "execution_count": null,
   "id": "d7c3cc46",
   "metadata": {},
   "outputs": [
    {
     "name": "stdout",
     "output_type": "stream",
     "text": [
      "✅ สร้าง embedding จากรูปภาพจำนวน: 21\n"
     ]
    }
   ],
   "source": [
    "from PIL import Image\n",
    "from transformers import CLIPProcessor, CLIPModel\n",
    "import torch\n",
    "import base64\n",
    "from io import BytesIO\n",
    "from transformers import CLIPModel, CLIPProcessor\n",
    "import os\n",
    "# HF_TOKEN = os.getenv(\"HF_TOKEN\") ##เปิดออกถ้าต้องใช้\n",
    "# เลือกที่จะดาวน์โหลดโมเดลไว้ในเครื่อง\n",
    "cache_dir = \"./my_model_cache\"\n",
    "# โหลดโมเดลจาก cache หากมี หรือดาวน์โหลดใหม่\n",
    "model = CLIPModel.from_pretrained(\"openai/clip-vit-base-patch32\", use_auth_token=HF_TOKEN, cache_dir=cache_dir)\n",
    "processor = CLIPProcessor.from_pretrained(\"openai/clip-vit-base-patch32\", use_auth_token=HF_TOKEN, cache_dir=cache_dir)\n",
    "# ใช้โมเดลและ processor ที่โหลดไว้แล้ว\n",
    "image_embeddings = []\n",
    "\n",
    "# loop ผ่านรูปภาพ base64\n",
    "for img_b64 in images_b64_doc:\n",
    "    # แปลง base64 เป็น Image\n",
    "    image = Image.open(BytesIO(base64.b64decode(img_b64))).convert(\"RGB\")\n",
    "    \n",
    "    # ประมวลผลรูปภาพ\n",
    "    inputs = processor(images=image, return_tensors=\"pt\")\n",
    "    \n",
    "    # คำนวณ embeddings โดยไม่ต้องอัพเดต gradient\n",
    "    with torch.no_grad():\n",
    "        image_features = model.get_image_features(**inputs)\n",
    "        \n",
    "        # บันทึก embeddings\n",
    "        image_embeddings.append(image_features.squeeze().tolist())\n",
    "\n",
    "print(f\"✅ สร้าง embedding จากรูปภาพจำนวน: {len(image_embeddings)}\")"
   ]
  },
  {
   "cell_type": "code",
   "execution_count": null,
   "id": "d6d9c6fa",
   "metadata": {},
   "outputs": [],
   "source": []
  }
 ],
 "metadata": {
  "kernelspec": {
   "display_name": "venv",
   "language": "python",
   "name": "python3"
  },
  "language_info": {
   "codemirror_mode": {
    "name": "ipython",
    "version": 3
   },
   "file_extension": ".py",
   "mimetype": "text/x-python",
   "name": "python",
   "nbconvert_exporter": "python",
   "pygments_lexer": "ipython3",
   "version": "3.13.1"
  }
 },
 "nbformat": 4,
 "nbformat_minor": 5
}
