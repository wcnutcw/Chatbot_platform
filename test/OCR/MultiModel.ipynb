{
 "cells": [
  {
   "cell_type": "code",
   "execution_count": 1,
   "id": "cf1ee683",
   "metadata": {},
   "outputs": [
    {
     "name": "stdout",
     "output_type": "stream",
     "text": [
      "Current Directory: c:\\Users\\user\\OneDrive\\Desktop\\Test_BOT_CSV\\test\\OCR\n",
      "Env Path: c:\\Users\\user\\OneDrive\\Desktop\\Test_BOT_CSV\\venv\\.env\n"
     ]
    }
   ],
   "source": [
    "import pdfplumber\n",
    "import fitz  # PyMuPDF\n",
    "import base64\n",
    "from IPython.display import display, Image as IPImage\n",
    "from langchain_openai import ChatOpenAI\n",
    "from langchain_core.prompts import ChatPromptTemplate\n",
    "from langchain_core.output_parsers import StrOutputParser\n",
    "import os \n",
    "from dotenv import load_dotenv\n",
    "import nest_asyncio\n",
    "from pathlib import Path\n",
    "from openai import OpenAI\n",
    "import contextlib\n",
    "from langchain.chains.summarize import load_summarize_chain\n",
    "from langchain_core.documents import Document\n",
    "import logging\n",
    "from langchain.text_splitter import RecursiveCharacterTextSplitter\n",
    "\n",
    "current_directory = os.getcwd()\n",
    "print(\"Current Directory:\", current_directory)  # พิมพ์ที่อยู่ปัจจุบัน\n",
    "\n",
    "# ปรับเส้นทางไปยังไฟล์ .env ในโฟลเดอร์ venv\n",
    "env_path = Path(current_directory).parent.parent / 'venv' / '.env'\n",
    "print(\"Env Path:\", env_path)  # พิมพ์เส้นทางที่ไปยัง .env\n",
    "\n",
    "load_dotenv(dotenv_path=env_path)\n",
    "\n",
    "\n",
    "nest_asyncio.apply()"
   ]
  },
  {
   "cell_type": "code",
   "execution_count": 2,
   "id": "9d0f41ea",
   "metadata": {},
   "outputs": [],
   "source": [
    "# keys for the services we will use\n",
    "OPENAI_API_KEY : str \n",
    "GROQ_API_KEY : str\n",
    "LANGCHAIN_API_KEY : str\n",
    "OPENAI_API_KEY = os.getenv(\"OPENAI_API_KEY\")\n",
    "LANGCHAIN_API_KEY = os.getenv('LANGCHAIN_API_KEY')"
   ]
  },
  {
   "cell_type": "code",
   "execution_count": 3,
   "id": "a7c06248",
   "metadata": {},
   "outputs": [
    {
     "name": "stderr",
     "output_type": "stream",
     "text": [
      "CropBox missing from /Page, defaulting to MediaBox\n",
      "CropBox missing from /Page, defaulting to MediaBox\n",
      "CropBox missing from /Page, defaulting to MediaBox\n",
      "CropBox missing from /Page, defaulting to MediaBox\n",
      "CropBox missing from /Page, defaulting to MediaBox\n",
      "CropBox missing from /Page, defaulting to MediaBox\n",
      "CropBox missing from /Page, defaulting to MediaBox\n",
      "CropBox missing from /Page, defaulting to MediaBox\n",
      "CropBox missing from /Page, defaulting to MediaBox\n",
      "CropBox missing from /Page, defaulting to MediaBox\n",
      "CropBox missing from /Page, defaulting to MediaBox\n",
      "CropBox missing from /Page, defaulting to MediaBox\n",
      "CropBox missing from /Page, defaulting to MediaBox\n",
      "CropBox missing from /Page, defaulting to MediaBox\n",
      "CropBox missing from /Page, defaulting to MediaBox\n",
      "CropBox missing from /Page, defaulting to MediaBox\n",
      "CropBox missing from /Page, defaulting to MediaBox\n",
      "CropBox missing from /Page, defaulting to MediaBox\n",
      "CropBox missing from /Page, defaulting to MediaBox\n",
      "CropBox missing from /Page, defaulting to MediaBox\n",
      "CropBox missing from /Page, defaulting to MediaBox\n",
      "CropBox missing from /Page, defaulting to MediaBox\n"
     ]
    }
   ],
   "source": [
    "# --------- อ่านข้อความและตารางจาก PDF ด้วย pdfplumber ---------\n",
    "file_path = \"./test_data/NIPS-2017-attention-is-all-you-need-Paper.pdf\"\n",
    "text_content = \"\"\n",
    "tables_content = []\n",
    "\n",
    "with pdfplumber.open(file_path) as pdf:\n",
    "    for page_num, page in enumerate(pdf.pages, start=1):\n",
    "        try:\n",
    "            # อ่านข้อความ\n",
    "            text = page.extract_text()\n",
    "            if text:\n",
    "                text_content += f\"\\n--- Page {page_num} ---\\n{text}\"\n",
    "            \n",
    "            # อ่านตาราง\n",
    "            tables = page.extract_tables()\n",
    "            if tables:\n",
    "                for table in tables:\n",
    "                    if table:  # ตรวจสอบว่าไม่ใช่ตารางเปล่า\n",
    "                        tables_content.append(table)\n",
    "        \n",
    "        except Exception as e:\n",
    "            print(f\"❌ Error processing page {page_num}: {e}\")\n",
    "            \n",
    "logging.getLogger(\"pdfminer\").setLevel(logging.ERROR)  # ปิดคำเตือนที่บอก หน้านั้นใน PDF ไม่ได้กำหนด CropBox เอาไว้ → เลยใช้ MediaBox แทนเพื่อคำนวณขนาดและตำแหน่งในการตัดข้อมูล"
   ]
  },
  {
   "cell_type": "code",
   "execution_count": 4,
   "id": "6eded594",
   "metadata": {},
   "outputs": [
    {
     "name": "stdout",
     "output_type": "stream",
     "text": [
      "พบรูปภาพจำนวน: 3\n"
     ]
    }
   ],
   "source": [
    "# --------- ดึงรูปภาพจาก PyMuPDF ---------\n",
    "doc = fitz.open(file_path)\n",
    "image_dir = \"extracted_images\"\n",
    "os.makedirs(image_dir, exist_ok=True)\n",
    "\n",
    "images_b64 = []\n",
    "\n",
    "for page_index in range(len(doc)):\n",
    "    page = doc.load_page(page_index)\n",
    "    images = page.get_images(full=True)\n",
    "    \n",
    "    for img_index, img in enumerate(images):\n",
    "        xref = img[0]\n",
    "        base_image = doc.extract_image(xref)\n",
    "        image_bytes = base_image[\"image\"]\n",
    "        image_ext = base_image[\"ext\"]\n",
    "        image_filename = f\"page{page_index+1}_img{img_index+1}.{image_ext}\"\n",
    "        image_path = os.path.join(image_dir, image_filename)\n",
    "        \n",
    "        with open(image_path, \"wb\") as f:\n",
    "            f.write(image_bytes)\n",
    "        \n",
    "        images_b64.append(base64.b64encode(image_bytes).decode(\"utf-8\"))\n",
    "\n",
    "print(f\"พบรูปภาพจำนวน: {len(images_b64)}\")"
   ]
  },
  {
   "cell_type": "code",
   "execution_count": 5,
   "id": "4236666f",
   "metadata": {},
   "outputs": [],
   "source": [
    "# --------- การแสดงผลภาพ ---------\n",
    "def display_base64_image(base64_code):\n",
    "    image_data = base64.b64decode(base64_code)\n",
    "    display(IPImage(data=image_data))\n",
    "\n",
    "# change index look another image\n",
    "# display_base64_image(images_b64[1])    "
   ]
  },
  {
   "cell_type": "code",
   "execution_count": 6,
   "id": "740791a7",
   "metadata": {},
   "outputs": [
    {
     "name": "stdout",
     "output_type": "stream",
     "text": [
      "ภาพที่นำเสนอเป็นแผนภาพที่แสดงถึงกระบวนการทำงานของโมเดลการเรียนรู้เชิงลึก โดยเฉพาะในบริบทของการประมวลผลข้อมูลที่เกี่ยวข้องกับการทำ Attention Mechanism ซึ่งเป็นส่วนสำคัญในโมเดลเช่น Transformer\n",
      "\n",
      "1. องค์ประกอบหลักในภาพประกอบด้วย:\n",
      "   - MatMul (Matrix Multiplication): มีการปรากฏอยู่ในหลายจุดในภาพ โดยทำหน้าที่ในการคูณเมทริกซ์ ซึ่งเป็นขั้นตอนสำคัญในการคำนวณความสัมพันธ์ระหว่างข้อมูล\n",
      "   - SoftMax: ทำหน้าที่ในการแปลงค่าที่ได้จากการคูณเมทริกซ์ให้เป็นค่าความน่าจะเป็น โดยการปรับให้ผลลัพธ์มีค่าระหว่าง 0 ถึง 1\n",
      "   - Mask (optional): เป็นขั้นตอนที่ใช้ในการป้องกันไม่ให้โมเดลเข้าถึงข้อมูลที่ไม่ต้องการในระหว่างการประมวลผล\n",
      "   - Scale: ใช้ในการปรับขนาดค่าที่ได้จากการคูณเมทริกซ์ เพื่อให้การคำนวณมีความเสถียรและมีประสิทธิภาพมากขึ้น\n",
      "   - Q, K, V: แทนข้อมูลที่ใช้ในการคำนวณ Attention โดย Q (Query), K (Key), และ V (Value) เป็นองค์ประกอบที่สำคัญในการสร้างความสัมพันธ์ระหว่างข้อมูล\n",
      "\n",
      "2. ในแผนภาพนี้ไม่มีแกน X และ Y เนื่องจากเป็นแผนภาพที่แสดงกระบวนการทำงาน ไม่ใช่กราฟหรือแผนภูมิที่มีการวัดค่าตามแกน\n",
      "\n",
      "3. ลำดับความสัมพันธ์ของข้อมูลในภาพสามารถอธิบายได้ดังนี้:\n",
      "   - เริ่มต้นจากการคูณเมทริกซ์ Q และ K ในขั้นตอนแรก ซึ่งเป็นการคำนวณความสัมพันธ์ระหว่าง Query และ Key\n",
      "   - จากนั้นผลลัพธ์จะถูกส่งไปยังขั้นตอน Scale เพื่อปรับขนาดค่าที่ได้\n",
      "   - หลังจากนั้นจะมีการใช้ Mask (ถ้าจำเป็น) เพื่อป้องกันข้อมูลที่ไม่ต้องการ\n",
      "   - ผลลัพธ์จะถูกส่งไปยัง SoftMax เพื่อแปลงค่าที่ได้ให้เป็นความน่าจะเป็น\n",
      "   - สุดท้าย ผลลัพธ์จาก SoftMax จะถูกนำไปคูณกับ V ในขั้นตอนสุดท้ายของ MatMul เพื่อให้ได้ผลลัพธ์สุดท้าย\n",
      "\n",
      "4. องค์ประกอบรองในภาพ ได้แก่ Mask และ Scale ซึ่งเป็นขั้นตอนที่ช่วยเพิ่มประสิทธิภาพในการคำนวณและควบคุมการเข้าถึงข้อมูล\n",
      "\n",
      "5. การวิเคราะห์ภาพนี้แสดงให้เห็นถึงความซับซ้อนและความสำคัญของกระบวนการ Attention Mechanism ในการประมวลผลข้อมูล โดยเฉพาะในบริบทของการเรียนรู้เชิงลึก ซึ่งมีการใช้เทคนิคต่าง ๆ เพื่อเพิ่มประสิทธิภาพและความแม่นยำในการทำงานของโมเดล\n",
      "\n",
      "การนำเสนอในลักษณะนี้เหมาะสมสำหรับการใช้อ้างอิงในเอกสารวิจัยหรือเอกสารวิชาการในสาขาที่เกี่ยวข้องกับการเรียนรู้ของเครื่องและการประมวลผลข้อมูล.\n"
     ]
    }
   ],
   "source": [
    "client = OpenAI(api_key=OPENAI_API_KEY)\n",
    "\n",
    "image_b64 = images_b64[2]\n",
    "\n",
    "prompt = \"\"\"\n",
    "กรุณาวิเคราะห์และอธิบายภาพด้านล่างอย่างละเอียด โดยเน้นการนำเสนอในเชิงวิชาการ เพื่อให้เหมาะสมสำหรับการนำไปใช้ในเอกสารวิจัยหรือเอกสารวิชาการทั่วไป\n",
    "\n",
    "ข้อกำหนดการอธิบาย:\n",
    "1. วิเคราะห์องค์ประกอบที่ปรากฏในภาพอย่างละเอียด ทั้งในเชิงโครงสร้าง เนื้อหา และความสัมพันธ์ของข้อมูล\n",
    "2. หากภาพนั้นเป็นกราฟหรือแผนภูมิ ให้ระบุข้อมูลที่ปรากฏบนแกน X และแกน Y อย่างชัดเจน แต่หากไม่มีแกนดังกล่าว สามารถข้ามข้อนี้ได้\n",
    "3. อธิบายลำดับความสัมพันธ์ของข้อมูลหรือองค์ประกอบต่าง ๆ โดยนำเสนอในรูปแบบลำดับขั้นตอน (Step-by-step) เริ่มจากองค์ประกอบหลักก่อน แล้วจึงอธิบายองค์ประกอบรองตามลำดับ\n",
    "4. ต้องเขียนด้วยข้อความธรรมดาเท่านั้น ห้ามใช้รูปแบบ Markdown เช่น การทำตัวหนา ตัวเอียง หรือการเน้นข้อความด้วยสัญลักษณ์พิเศษ เช่น ** ## * _\n",
    "5. เนื้อหาต้องจัดเรียงให้อ่านง่าย ชัดเจน เป็นระบบ และมีความต่อเนื่องของตรรกะ\n",
    "6. ใช้ภาษาทางวิชาการที่สุภาพ ถูกต้อง และสมบูรณ์ เหมาะสมสำหรับการนำไปใช้อ้างอิงในงานวิจัยหรือเอกสารวิชาการในทุกสาขา\n",
    "\n",
    "หมายเหตุ: คำอธิบายควรมีความละเอียด ครอบคลุม และคำนึงถึงความสมบูรณ์ของเนื้อหาเป็นสำคัญ\n",
    "\"\"\"\n",
    "\n",
    "response = client.chat.completions.create(\n",
    "    model=\"gpt-4o-mini\",\n",
    "    messages=[\n",
    "        {\n",
    "            \"role\": \"user\",\n",
    "            \"content\": [\n",
    "                {\n",
    "                    \"type\": \"text\",\n",
    "                    \"text\": prompt\n",
    "                },\n",
    "                {\n",
    "                    \"type\": \"image_url\",\n",
    "                    \"image_url\": {\n",
    "                        \"url\": f\"data:image/jpeg;base64,{image_b64}\"\n",
    "                    }\n",
    "                }\n",
    "            ]\n",
    "        }\n",
    "    ],\n",
    "    temperature=0\n",
    ")\n",
    "\n",
    "# แสดงผลลัพธ์\n",
    "print(response.choices[0].message.content)"
   ]
  },
  {
   "cell_type": "code",
   "execution_count": 7,
   "id": "081bccdd",
   "metadata": {},
   "outputs": [
    {
     "data": {
      "image/png": "[encoded data removed]",
      "text/plain": [
       "<IPython.core.display.Image object>"
      ]
     },
     "metadata": {},
     "output_type": "display_data"
    }
   ],
   "source": [
    "display_base64_image(images_b64[2])"
   ]
  },
  {
   "cell_type": "markdown",
   "id": "c6a3e169",
   "metadata": {},
   "source": [
    "Read text"
   ]
  },
  {
   "cell_type": "code",
   "execution_count": 7,
   "id": "ba87b453",
   "metadata": {},
   "outputs": [],
   "source": [
    "llm = ChatOpenAI(model=\"gpt-4\", temperature=0.5)\n",
    "summarize_chain = load_summarize_chain(llm, chain_type=\"stuff\")\n",
    "text_documents = [Document(page_content=text_content)]\n"
   ]
  },
  {
   "cell_type": "code",
   "execution_count": 13,
   "id": "c6376cc7",
   "metadata": {},
   "outputs": [],
   "source": [
    "text_splitter = RecursiveCharacterTextSplitter(\n",
    "    chunk_size=2000,\n",
    "    chunk_overlap=200,  # ให้มีบริบทซ้อนเล็กน้อย\n",
    ")"
   ]
  },
  {
   "cell_type": "code",
   "execution_count": 14,
   "id": "ab0b1ff3",
   "metadata": {},
   "outputs": [],
   "source": [
    "documents = text_splitter.create_documents([text_content])\n"
   ]
  },
  {
   "cell_type": "code",
   "execution_count": 15,
   "id": "b014b55f",
   "metadata": {},
   "outputs": [
    {
     "name": "stdout",
     "output_type": "stream",
     "text": [
      "🔍 Summarizing chunk 1/17...\n",
      "🔍 Summarizing chunk 2/17...\n",
      "🔍 Summarizing chunk 3/17...\n",
      "🔍 Summarizing chunk 4/17...\n",
      "🔍 Summarizing chunk 5/17...\n",
      "🔍 Summarizing chunk 6/17...\n",
      "🔍 Summarizing chunk 7/17...\n",
      "🔍 Summarizing chunk 8/17...\n",
      "🔍 Summarizing chunk 9/17...\n",
      "🔍 Summarizing chunk 10/17...\n",
      "🔍 Summarizing chunk 11/17...\n",
      "🔍 Summarizing chunk 12/17...\n",
      "🔍 Summarizing chunk 13/17...\n",
      "🔍 Summarizing chunk 14/17...\n",
      "🔍 Summarizing chunk 15/17...\n",
      "🔍 Summarizing chunk 16/17...\n",
      "🔍 Summarizing chunk 17/17...\n"
     ]
    }
   ],
   "source": [
    "# สรุปแต่ละ chunk ทีละตัว\n",
    "text_summaries = []\n",
    "for i, doc in enumerate(documents):\n",
    "    print(f\"🔍 Summarizing chunk {i+1}/{len(documents)}...\")\n",
    "    summary = summarize_chain.invoke({\"input_documents\": [doc]})\n",
    "    text_summaries.append(summary[\"output_text\"])"
   ]
  },
  {
   "cell_type": "code",
   "execution_count": 16,
   "id": "ca290526",
   "metadata": {},
   "outputs": [],
   "source": [
    "# รวมทั้งหมดเป็นข้อความเดียว\n",
    "full_summary = \"\\n\\n\".join(text_summaries)"
   ]
  },
  {
   "cell_type": "code",
   "execution_count": 17,
   "id": "51e86b34",
   "metadata": {},
   "outputs": [
    {
     "name": "stdout",
     "output_type": "stream",
     "text": [
      "\n",
      "✅ Full Summary:\n",
      " Google Brain researchers propose a new network architecture called the Transformer, which is based solely on attention mechanisms and does not include recurrent or convolutional neural networks. Experiments on two machine translation tasks show these models to be superior in quality, more parallelizable, and require less time to train. The model achieved a new single-model state-of-the-art BLEU score of 41.0 after training for 3.5 days on eight GPUs, improving over the existing best results.\n",
      "\n",
      "Ashish and Illia designed and implemented the first Transformer models, with Noam proposing key features such as scaled dot-product attention, multi-head attention, and the parameter-free position representation. Niki and Llion were responsible for designing, implementing, and evaluating numerous model variants, while Lukasz and Aidan worked on developing the tensor2tensor codebase. The work was performed at Google Brain and Google Research. The Transformer model is a new architecture that avoids recurrence and instead relies entirely on an attention mechanism to draw global dependencies between input and output. This approach allows for parallelization within training examples, addressing the limitations of sequential computation in recurrent models.\n",
      "\n",
      "The authors propose a new model architecture called the Transformer, which relies entirely on an attention mechanism to draw global dependencies between input and output, allowing for more parallelization. This model can achieve state-of-the-art translation quality after being trained for as little as twelve hours on eight P100 GPUs. The Transformer differs from other models in that it doesn't use sequence-aligned RNNs or convolution, instead relying entirely on self-attention to compute representations of its input and output. The authors argue that this approach has several advantages over other models.\n",
      "\n",
      "The article discusses the architecture of the Transformer model, which is a neural sequence transduction model with an encoder-decoder structure. The encoder maps an input sequence of symbols to a continuous sequence, which the decoder then uses to generate an output sequence one element at a time. This model uses stacked self-attention and point-wise, fully connected layers for both the encoder and decoder. The encoder is composed of six identical layers, each with a multi-head self-attention mechanism and a simple, position-wise fully connected feed-forward network. The decoder also has six identical layers and includes a third sub-layer that performs multi-head attention over the encoder's output. The model employs residual connections and layer normalization.\n",
      "\n",
      "The text discusses modifications to the self-attention sub-layer in the decoder stack to prevent positions from attending to subsequent positions. It introduces the attention function, which maps a query and a set of key-value pairs to an output. The output is computed as a weighted sum of the values, with the weight assigned to each value computed by a compatibility function of the query with the corresponding key. The text also introduces the \"Scaled Dot-Product Attention\" and \"Multi-Head Attention\", which are attention functions commonly used in practice. The former is faster and more space-efficient as it can be implemented using highly optimized matrix multiplication code.\n",
      "\n",
      "The article discusses the efficiency of additive attention over dot product attention for larger values in machine learning models. It introduces the concept of Multi-Head Attention, which allows the model to attend to information from different representation subspaces simultaneously. This is done by linearly projecting queries, keys, and values with different learned linear projections and performing the attention function in parallel. The article also mentions the use of multi-head attention in three different ways in the Transformer model.\n",
      "\n",
      "The Transformer model uses multi-head attention in three ways: encoder-decoder attention layers, self-attention layers in the encoder, and self-attention layers in the decoder. The encoder-decoder attention allows every position in the decoder to attend to all positions in the input sequence. The self-attention layers in the encoder and decoder allow each position to attend to all positions in the previous layer. Additionally, each layer in the encoder and decoder contains a fully connected feed-forward network applied to each position. The model also uses learned embeddings to convert input and output tokens to vectors.\n",
      "\n",
      "The model discussed uses tokens and output tokens to predict next-token probabilities through a learned linear transformation and softmax function. It also uses shared weight matrices between two embedding layers and a pre-softmax linear transformation. The model uses positional encodings to make use of the order of the sequence, adding these to the input embeddings at the bottom of the encoder and decoder stacks. The model uses sine and cosine functions of different frequencies for positional encodings, which allow the model to easily learn to attend by relative positions. The use of learned positional embeddings produced nearly identical results.\n",
      "\n",
      "The researchers experimented with using learned positional embeddings and found that the results were nearly identical to the sinusoidal version. They chose the sinusoidal version as it might allow the model to extrapolate to sequence lengths longer than those encountered during training. They compared self-attention layers to recurrent and convolutional layers commonly used for mapping variable-length sequence of symbol representations. They found that self-attention layers are faster than recurrent layers when the sequence length is smaller than the representation dimensionality, which is often the case with sentence representations used in machine translations.\n",
      "\n",
      "The text discusses the use of state-of-the-art models in machine translations, such as word-piece and byte-pair representations. It suggests that to improve computational performance for tasks involving long sequences, self-attention could be restricted to considering only a neighborhood of size r in the input sequence. The text also mentions the use of a single convolutional layer with kernel width k and the benefits of separable convolutions. It further notes that self-attention could yield more interpretable models. The training regime for the models is described, with data from the standard WMT 2014 English-German dataset and the larger WMT 2014 English-French dataset being used.\n",
      "\n",
      "The article discusses the use of a machine learning model that was trained on a machine with eight NVIDIA P100 GPUs. The training consisted of 100,000 steps, or 12 hours, for base models, and 300,000 steps, or 3.5 days, for larger models. The Adam optimizer was used, with a learning rate that increased linearly for the first 4000 steps and decreased proportionally thereafter. The model also employed three types of regularization during training. The Transformer model achieved better BLEU scores than previous models on English-to-German and English-to-French tests at a fraction of the training cost.\n",
      "\n",
      "The big transformer model (Transformer(big)) outperforms all previously reported models in the WMT 2014 English-to-German and English-to-French translation tasks, establishing a new state-of-the-art BLEU score of 28.4 and 41.0 respectively. The model also reduces training costs significantly compared to competitive models. This was achieved by employing label smoothing during training, averaging the last 5 checkpoints for base models and the last 20 for big models, and using a beam search with a beam size of 4 and length penalty of 0.6.\n",
      "\n",
      "The study evaluates the importance of different components of the Transformer model by varying the base model in different ways and measuring the performance change on English-to-German translation. It finds that while single-head attention is worse than the best setting, quality also drops off with too many heads. Reducing the attention key size hurts model quality, suggesting a more sophisticated compatibility function than dot product may be beneficial. Bigger models are better and dropout is very helpful in avoiding over-fitting. Replacing sinusoidal positional encoding with learned positional embeddings yields nearly identical results to the base model.\n",
      "\n",
      "The Transformer, the first sequence transduction model based entirely on attention, was presented in this work. It replaces the recurrent layers typically used in encoder-decoder architectures with multi-headed self-attention. The Transformer can be trained significantly faster than architectures based on recurrent or convolutional layers and has achieved a new state of the art in both the WMT 2014 English-to-German and English-to-French translation tasks. The authors plan to apply the Transformer to other tasks and modalities and to investigate local, restricted attention mechanisms to handle large inputs and outputs. The code used in this study is available on GitHub.\n",
      "\n",
      "This is a list of references to various scholarly articles and preprints. The topics covered include deep learning, recurrent neural networks, machine translation, and language modeling. Notable authors include Yoshua Bengio, Francois Chollet, and Jurgen Schmidhuber. The works cited include foundational papers on Long Short-Term Memory (LSTM) networks and more recent research on convolutional sequence to sequence learning and deep residual learning for image recognition.\n",
      "\n",
      "The document appears to be a list of references from a scientific paper or report, focusing on the field of machine learning and neural networks. Some of the topics covered include stochastic optimization, LSTM networks, sentence embedding, attention-based neural machine translation, and sequence to sequence learning. The authors of these works include prominent figures in the field such as Geoffrey Hinton, Yoshua Bengio, and Ilya Sutskever.\n",
      "\n",
      "The text refers to various studies and papers related to advances in neural information processing systems and machine translation. This includes work on sequence to sequence learning, a rethinking of the inception architecture for computer vision, and developments in Google's neural machine translation system. There is also mention of research into deep recurrent models with fast-forward connections for neural machine translation.\n"
     ]
    }
   ],
   "source": [
    "# แสดงผล\n",
    "print(\"\\n✅ Full Summary:\\n\", full_summary)"
   ]
  },
  {
   "cell_type": "markdown",
   "id": "aace9255",
   "metadata": {},
   "source": [
    "Read Table"
   ]
  },
  {
   "cell_type": "code",
   "execution_count": 21,
   "id": "b7e9ca2c",
   "metadata": {},
   "outputs": [],
   "source": [
    "# แปลงตารางเป็นข้อความ\n",
    "table_texts = []\n",
    "for table in tables_content:\n",
    "    # แปลงแต่ละแถวของตารางเป็นข้อความ\n",
    "    table_text = \"\\n\".join([\"\\t\".join(row) for row in table if row])  # ใช้ tab คั่นระหว่างคอลัมน์\n",
    "    table_texts.append(table_text)\n"
   ]
  },
  {
   "cell_type": "code",
   "execution_count": 24,
   "id": "850761f5",
   "metadata": {},
   "outputs": [],
   "source": [
    "# สร้าง Document สำหรับตาราง\n",
    "table_documents = [Document(page_content=table_text) for table_text in table_texts]"
   ]
  },
  {
   "cell_type": "code",
   "execution_count": 25,
   "id": "1db2b63f",
   "metadata": {},
   "outputs": [
    {
     "name": "stdout",
     "output_type": "stream",
     "text": [
      "🔍 Summarizing tables...\n"
     ]
    }
   ],
   "source": [
    "# สรุปตาราง\n",
    "print(\"🔍 Summarizing tables...\")\n",
    "table_summaries = []\n",
    "for doc in table_documents:\n",
    "    summary = summarize_chain.invoke({\"input_documents\": [doc]})\n",
    "    table_summaries.append(summary[\"output_text\"])\n"
   ]
  },
  {
   "cell_type": "code",
   "execution_count": 26,
   "id": "c0dc23bf",
   "metadata": {},
   "outputs": [
    {
     "name": "stdout",
     "output_type": "stream",
     "text": [
      "🔍 Summarizing tables...\n"
     ]
    }
   ],
   "source": [
    "# สรุปตาราง\n",
    "print(\"🔍 Summarizing tables...\")\n",
    "table_summaries = []\n",
    "for doc in table_documents:\n",
    "    summary = summarize_chain.invoke({\"input_documents\": [doc]})\n",
    "    table_summaries.append(summary[\"output_text\"])"
   ]
  },
  {
   "cell_type": "code",
   "execution_count": 27,
   "id": "d3e3c3df",
   "metadata": {},
   "outputs": [],
   "source": [
    "# รวมผลสรุป\n",
    "full_table_summary = \"\\n\\n\".join(table_summaries)"
   ]
  },
  {
   "cell_type": "code",
   "execution_count": 28,
   "id": "3dae3a4f",
   "metadata": {},
   "outputs": [
    {
     "name": "stdout",
     "output_type": "stream",
     "text": [
      "\n",
      "✅ Full Table Summary:\n",
      " The text appears to be a list of parameters or settings for a machine learning model or algorithm, possibly related to neural networks or deep learning. It includes values for model layers, dimensionalities, dropout rates, learning rates, and training steps. There's also a mention of using positional embedding instead of sinusoids, which suggests a specific approach to handling sequential data.\n"
     ]
    }
   ],
   "source": [
    "# แสดงผล\n",
    "print(\"\\n✅ Full Table Summary:\\n\", full_table_summary)"
   ]
  },
  {
   "cell_type": "code",
   "execution_count": null,
   "id": "d9fadb43",
   "metadata": {},
   "outputs": [],
   "source": []
  }
 ],
 "metadata": {
  "kernelspec": {
   "display_name": "venv",
   "language": "python",
   "name": "python3"
  },
  "language_info": {
   "codemirror_mode": {
    "name": "ipython",
    "version": 3
   },
   "file_extension": ".py",
   "mimetype": "text/x-python",
   "name": "python",
   "nbconvert_exporter": "python",
   "pygments_lexer": "ipython3",
   "version": "3.13.1"
  }
 },
 "nbformat": 4,
 "nbformat_minor": 5
}
