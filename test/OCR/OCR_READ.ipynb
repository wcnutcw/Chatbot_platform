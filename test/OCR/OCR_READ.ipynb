{
 "cells": [
  {
   "cell_type": "code",
   "execution_count": 1,
   "id": "e5741203",
   "metadata": {},
   "outputs": [
    {
     "name": "stdout",
     "output_type": "stream",
     "text": [
      "Current Directory: c:\\Users\\user\\OneDrive\\Desktop\\Test_BOT\\test\\OCR\n",
      "Env Path: c:\\Users\\user\\OneDrive\\Desktop\\Test_BOT\\venv\\.env\n"
     ]
    }
   ],
   "source": [
    "import pytesseract\n",
    "from PIL import Image\n",
    "import os \n",
    "from PIL import Image\n",
    "import pytesseract\n",
    "from openai import OpenAI\n",
    "from dotenv import load_dotenv\n",
    "import nest_asyncio\n",
    "from pathlib import Path\n",
    "import fitz\n",
    "import base64\n",
    "from IPython.display import display, Image as IPImage\n",
    "\n",
    "current_directory = os.getcwd()\n",
    "print(\"Current Directory:\", current_directory)  # พิมพ์ที่อยู่ปัจจุบัน\n",
    "\n",
    "# ปรับเส้นทางไปยังไฟล์ .env ในโฟลเดอร์ venv\n",
    "env_path = Path(current_directory).parent.parent / 'venv' / '.env'\n",
    "print(\"Env Path:\", env_path)  # พิมพ์เส้นทางที่ไปยัง .env\n",
    "\n",
    "load_dotenv(dotenv_path=env_path)\n",
    "\n",
    "\n",
    "nest_asyncio.apply()"
   ]
  },
  {
   "cell_type": "code",
   "execution_count": 3,
   "id": "a94af335",
   "metadata": {},
   "outputs": [],
   "source": [
    "# keys for the services we will use\n",
    "OPENAI_API_KEY : str \n",
    "GROQ_API_KEY : str\n",
    "LANGCHAIN_API_KEY : str\n",
    "OPENAI_API_KEY = os.getenv(\"OPENAI_API_KEY\")\n",
    "# LANGCHAIN_API_KEY = os.getenv('LANGCHAIN_API_KEY')\n"
   ]
  },
  {
   "cell_type": "code",
   "execution_count": 4,
   "id": "82f49a08",
   "metadata": {},
   "outputs": [],
   "source": [
    "# ---------- ตั้งค่าเบื้องต้น ----------\n",
    "file_path = \"./test_data/ปัญหาถามตอบ สำนักคอม.docx.pdf\"\n",
    "image_dir = \"extracted_images\"\n",
    "os.makedirs(image_dir, exist_ok=True)"
   ]
  },
  {
   "cell_type": "code",
   "execution_count": 5,
   "id": "e4b38abc",
   "metadata": {},
   "outputs": [
    {
     "name": "stdout",
     "output_type": "stream",
     "text": [
      "Total Image: 13 รูป\n"
     ]
    }
   ],
   "source": [
    "# ---------- ดึงรูปภาพจาก PDF ----------\n",
    "doc = fitz.open(file_path)\n",
    "images_b64 = []\n",
    "image_filenames = []\n",
    "\n",
    "for page_index in range(len(doc)):\n",
    "    page = doc.load_page(page_index)\n",
    "    images = page.get_images(full=True)\n",
    "\n",
    "    for img_index, img in enumerate(images):\n",
    "        xref = img[0]\n",
    "        base_image = doc.extract_image(xref)\n",
    "        image_bytes = base_image[\"image\"]\n",
    "        image_ext = base_image[\"ext\"]\n",
    "        image_filename = f\"page{page_index+1}_img{img_index+1}.{image_ext}\"\n",
    "        image_path = os.path.join(image_dir, image_filename)\n",
    "\n",
    "        with open(image_path, \"wb\") as f:\n",
    "            f.write(image_bytes)\n",
    "\n",
    "        images_b64.append(base64.b64encode(image_bytes).decode(\"utf-8\"))\n",
    "        image_filenames.append(image_filename)\n",
    "\n",
    "print(f\"Total Image: {len(images_b64)} รูป\")\n"
   ]
  },
  {
   "cell_type": "code",
   "execution_count": 6,
   "id": "cd95297c",
   "metadata": {},
   "outputs": [
    {
     "name": "stdout",
     "output_type": "stream",
     "text": [
      "OCR เสร็จแล้วทั้งหมด 13 ไฟล์\n"
     ]
    }
   ],
   "source": [
    "# ---------- OCR อ่านข้อความจากรูป ----------\n",
    "ocr_texts = []\n",
    "custom_config = r'--oem 3 --psm 6'\n",
    "\n",
    "for filename in image_filenames:\n",
    "    file_path = os.path.join(image_dir, filename)\n",
    "\n",
    "    if file_path.endswith(('.png', '.jpg', '.jpeg', '.bmp')):\n",
    "        try:\n",
    "            img = Image.open(file_path)\n",
    "            raw_text = pytesseract.image_to_string(img, lang='tha+eng', config=custom_config)\n",
    "            ocr_texts.append((filename, raw_text))\n",
    "        except Exception as e:\n",
    "            print(f\"❌ Error processing {filename}: {e}\")\n",
    "\n",
    "print(f\"OCR เสร็จแล้วทั้งหมด {len(ocr_texts)} ไฟล์\")\n"
   ]
  },
  {
   "cell_type": "code",
   "execution_count": 7,
   "id": "aa0bccab",
   "metadata": {},
   "outputs": [
    {
     "name": "stdout",
     "output_type": "stream",
     "text": [
      "[('page1_img1.jpeg', '[ ล ะ ห ล ส อ บ โ ด ย ล อ ก ล น\\nเ จ ทีฉ ม บ ก ห ซ์\\nอ า ม ค ม บ ะ กั ที า ใ ม ไ ด้\\n2 - อิ น เ ด อ ดิ ม็ ด\\nWw - ค ม บ ส า ร ส แ ท ต ภ า ย โ ซ เ ห า ริ ย ย า ส ย\\n~ AD ห ย ช่ น โ ป แ จ ง ท่ รั บ ล อ ย แ ล ะ | า\\n- ม โ ช ล อ เ ช่ น ร า ม บ ล ง ห ล เ บี ย น ร ะ เ ริ ญ ญ า กา ร ะ ก า ริ ง า น ห า\\n- ทุ\\nป =e\\n1 ศ ส ม า น โ ม อ ก อ อ ง ( ห ด น ศ ส ผ า น )\\n[ ปั ณ ย์ ห ร ค อ า ย ( เ จ้ ง แ อ ด มิ น ส อ อ า ย )\\nก น พ ร ๕ ญ ช์\\n- เ ป น มิ ด เ า ใ ห ม่\\n- เ ช น สิ ด ย า ย ค ณ ช ภ า ค ริ ช า\\n- เ ขี ย ม ค ล า ก ทํา น .\\n2 อ ก ล บั ญ ช ช็ติ ษ ย์ า พ น ส ภ า พ\\n'), ('page2_img1.jpeg', 'อิ น ต ะ ร์ ด โ ช ไ มิ ด\\nน บ์\\nwifi Zaavts\\nwi\\n‘biti Ww ใ จ อ า ม ภา 8 2\\nค อ ม แ ส ด ง ห นำ จ อ 109 in? เ ต ศ ษ อุ ย ล ะ ศ ล\\nวั ย ศ 8 ะ ต ด ต่ อ แ อ ด ม น ล า น ก /\\nแ อ ค ธ น ส่ น ง า น\\nแ ส ด ง\\nWw\\nมิ ด ก น\\n'), ('page3_img1.jpeg', 'ลํ ง ก า ย า น ใ น\\nMS team ไ ม ด\\nwi แ ร ง ช า ร า ร รั ส อ น\\nเ พ ม ช จ า ใ น แ ม น\\nห ล ส อ บ\\n‘bili\\n'), ('page4_img1.jpeg', \"ข อ ธ ธิ ย ย์ เ ชื อ ง ร า ก\\nอ่ า ย ค ผ ะ ย้ า ย ภ า ค ริ ชา\\nti\\nม ต ศ ส ป สิ ต ห ม\\n' ติ ต ศ ร เ ฟ ส ถิ ด ก็ ส ร์า นั ก ค อ ม ภ โ ห ร ศั ศ ปี\\nre แ จ ง ข อ บั ญ จี โ ห ม ร า ย ล น อื ย ค ขื่ - บ า ม ส ก ล\\nริ ต ณ ค ณ ะ ใ ห ม ว ห ส ส อ โ ท ม แ ล ะ เ ส ริ ส ต เ ก า\\n* แ ล ค รั น ล อ ย ต่ อ )\\nป ลิ ต า ส ร เ ช ณ ริ ย โ ช ย ย โ อ ย 653\\nร า ย ล ะ อี ย ด ก ส ม ท า ง ข้ อ ง ท า งี\\nต ด ต่ อ ม า\\n\"), ('page5_img1.png', 'ปั ญ ห า กี ย ว ศ บ ( ร า ณ ๘ 8\\nGavia\\nง า น ช ณ ท์ ต ริ ท ย า ส ย\\nดิ ด อ ร ก ริ ช า ก า ร ค อ ม พิ ว เ อ ร\\n038-102700 ต 701\\n'), ('page6_img1.jpeg', 'เ จ้า ค ร บ ล ง ท ะ เ บี ย ร บ\\nป ริ ญ ณ า ไ ม ด\\nห่ อ ง ท ะ ธี ย รั น ต ร บ ล ง ท ะ เ อ ย น\\nร่ ยป ริ ญ ญ า ใ ห ม่ เ ม อ ง จ า กี น\\n( ฉ อ บ เ ฉ พ า ะ ก จ\\n'), ('page7_img1.jpeg', 'ข อ ธั ญ ธิ น อ ล า ก ม โ ม\\nล า ร า ร ธ จิ เ ศ ข\\nค า ร ป ย ซ่ อ ก า ร ๒ เ ย ย แ ล อ ง า ด า ว ชั โ ห ล ด เ อ ก ส า ร 2> แ บ บ พ่ อ ดิ ง ก า ร ร ด ก า ร ช ย ช ย ไ ข้\\nเ ส แ ล ะ ง\\nกร อ ก แ บ บ ห อ ร ม พ ร อ ม\\nแ น บ อ ก ส า ร\\nล่ ม อ ก ส า ร ค่ า น อ - ๕ 00\\nแ า ย เ ช า ย ก ค อ ม พิ ว เ ต อ ร\\nล า จ ก ค อ ม พิ ว เ ส ธ ร\\nล ร่ า ง ช จ ร อ ม อี ม ล\\nร า ย ล ะ อี ย ด ใ ห ก บ ริ บ\\nก า า\\n'), ('page8_img1.jpeg', 'อ า จ า ร ย ล า อ อ ก แ ต ต่ อ ง\\nก ร อ ก เ ก ร ศ ส ก า น ธิ พ น ธ์\\nห ร มิ ต\\nมิ 2 maan\\n1 โ ห ล่า น ง า ม ห า ห รั ง ลี อ ร ม ณ ง ร า ย ง ต้ ง\\nเ ข่ า ฉ ม บ แ ล ร ช าป แ บ บ ริ น ฉ บ บ ก า ค อ น\\nเ ป ลี ย ย เ ส ผ า น\\n2 ม ข้ อ ใ น ค า ร า ง ส อ น\\nป อ ดิ น ต า ณา น ที myid\\n'), ('page9_img1.jpeg', 'uth VPN Lita\\namas\\nล ห ส อ แ ล ะ ด\\nโ ล ย ภ า ฉ ข สุ ด ม บ\\nbaad อ๋ ดิ บ ส สห า น โ เ ก ม ก า ร ค ง ก า ร พ ล ผ า น\\nที ก ห ไ น โ ป ฉ เ ก ณ vpn\\nด\\nล อ ง แ ก ร ม ค า ค อ น พิ ก ม\\nYn cient ล ะ ง อ น\\nโ ป ร เ ก ร แ ล ว ต ด ด ง โ ห ม\\nไ ด้\\nด์ 2 2 แ ก า ส\\nกั ด อ งุ พ ษ า ที อ ย ล\\nร น\\nห รา ม ล ต า ธ า จ ม อ ทํ ร ง ห เ แ ล ะ า ลี อ ก ล จ รั ก วั สิ อ บุ ค ม ห ะ 55 า 8 ก\\n'), ('page10_img1.jpeg', 'ป\\n@ ‘ait\\nด ช น์ ศั โ ท ฟ ศ ข้ า เ พป ล ด ล็ อ ก อี ม ล ดิ ษ ย์ ก า ข ว ค ก ร อำ โ ช ไ ด ร ะ ช น รั ร ท ม า\\nขุ่ any แ ต่า ไ ม พ ม ดื อ ไ ม ส า ม า ร ถ ไ ช ง า น ไ ด้ เ ล ร\\nห ม า ย เ ห ต สำ ห ร บ เ จ้า ห น้ า ท ข้ า\\nก ห ส ง ย แ ล ะ ง อ อ ก ก\\nจ ลิ ฉ ล ะ เ ค ล า ก 5\\nป\\nWw แ จ ะ ศ ป ช า ร เ งิ บ ,\\nร ะ ดิ น ส ภ า พ ง อ ฟ ก น ที ก ห ๕\\nอิ ม ล จ ะ โ ช่ ไ ด ร นุ่ ง ย น\\nน บ์\\n๐๙385 ส ต์ ล ศี เ า น ไ ฒ , 0 ะ , ศ oY โท้ ม ศ ลั ก เ ด็ พ\\n( ห า ศ ศ ห า > อ่ ด น ห ร ผ า น ที ง า ห\\nน ร์\\nเ ป ล ง ห ขี ย บ\\nlink buu.ac.thigo\\nเ ส็ จ แ ล ม ข า โ ช่ ก า น ด\\nป\\nต ด ต่ อ เ อ ต ม น ต ย\\nไ ม่ ตย\\nเ ต ย\\n( ดิ น ก ห ผ า น ที ก ศ 50\\n15-20 ni\\n'), ('page11_img1.jpeg', 'activate windows ม่ ไ ด\\nไ ม โ ช่ | ห่ า เ ป น ก า ร ขื อ ม ต่ อ\\nVPN แ ล ะ ด า เ ชิ ม ก ร\\nพ์\\nโ ฟ า เ ขิ น ก า ร ต า ม ตื อ\\nuae run as administrator\\nป า ส ดี อ ง ม า\\nasia via it clinic\\nIwhuarnanims\\n'), ('page12_img1.jpeg', 'activate windows \"ast\\n. 1 ม ร์ | ห อ ร่ อ เ ค ล ง windows\\nโ ก 40 ะ ดิ ด ด ง ข อ ง ม ข อ ง ม แ ล ะ ด า เ ขิ น ก า ร\\n‘bal\\nษ\\nแ 05 ม ช่ | ไ ห า เ ป น ก า ร ชื อ ม ต อ\\nส ญ ะ VEN แ ล ค า ขิ ก ร\\nฆั พ์\\nโ\\nน ร์ ไ 7\\nไ ฟ า เ ขิ น ก า ร า ม ต อ\\nuae run as administrator\\nwi\\nป า ส ดี อ ง ม า\\nasia vias it clinic\\nร บ ร แ แ ล ง ร ล า ร า ร ก า ร\\n'), ('page13_img1.jpeg', 'ข้ อ น า ร ส ก ล ที แ ส ด กั น เ ร็ บ\\nอิ ผ ล ไ ม อ ก ต อ ง\\nww โ า น ห ล บ์\\nร ะ โ ห่ ง า ย า ะ ขี ย น\\nส พ ด ห ช์ อ บ ล\\nน ร์\\n1 ร ท ล ง ร\\n1 เ ร ะ พ ร ร อ ร ะ โ ห่ ก ล ง เ ริ ห า ร\\nแ ล ย 1 11 ก ก ก า ล น [ พ ร ย า ก ร ต ด ล อา ล พ\\nร อ ม ล\\nน บ์\\nWw ร้ อ ม ลที แ ส ด ง ฆ เ ปื อ ก า ม า\\nส เ ก ะ คำ ป็ น ภ า ษา โ ท ย ใ ห้ ล อ ง\\nมิ ด เ ป ล ภ า ษ า ห น้ า จ อ ร็ บ\\nน ร์\\nนู๋\\nน ร์\\ndasa\\nแ ล ด มิ น ตั ย\\n')]\n"
     ]
    }
   ],
   "source": [
    "print(ocr_texts)"
   ]
  },
  {
   "cell_type": "code",
   "execution_count": 8,
   "id": "25558fab",
   "metadata": {},
   "outputs": [],
   "source": [
    "# ---------- ฟังก์ชันแสดงภาพจาก base64 ----------\n",
    "def display_base64_image(base64_code):\n",
    "    image_data = base64.b64decode(base64_code)\n",
    "    display(IPImage(data=image_data))\n",
    "\n",
    "# i=0  # change index look another image\n",
    "# filename, raw_text = ocr_texts[i]\n",
    "# print(f\"✅ แสดงภาพ: {filename}\")\n",
    "# display_base64_image(images_b64[i])\n"
   ]
  },
  {
   "cell_type": "code",
   "execution_count": null,
   "id": "c5e6b151",
   "metadata": {},
   "outputs": [
    {
     "name": "stdout",
     "output_type": "stream",
     "text": [
      "หากคุณไม่สามารถส่งการบ้านใน Microsoft Teams ได้ ลองทำตามขั้นตอนเหล่านี้เพื่อแก้ไขปัญหา:\n",
      "\n",
      "1. **ตรวจสอบการเชื่อมต่ออินเทอร์เน็ต**: \n",
      "   - ตรวจสอบว่า Wi-Fi หรือการเชื่อมต่ออินเทอร์เน็ตของคุณทำงานได้ปกติ ลองเปิดเว็บไซต์อื่น ๆ เพื่อดูว่ามีปัญหาหรือไม่\n",
      "\n",
      "2. **รีสตาร์ทแอป Teams**:\n",
      "   - ปิดแอป Microsoft Teams แล้วเปิดใหม่อีกครั้ง บางครั้งการรีสตาร์ทแอปสามารถแก้ไขปัญหาชั่วคราวได้\n",
      "\n",
      "3. **อัปเดตแอป Teams**:\n",
      "   - ตรวจสอบว่าคุณใช้เวอร์ชันล่าสุดของ Microsoft Teams หรือไม่ หากไม่ ให้ทำการอัปเดตแอป\n",
      "\n",
      "4. **ตรวจสอบการตั้งค่าการอนุญาต**:\n",
      "   - ตรวจสอบว่าแอป Teams มีสิทธิ์เข้าถึงไฟล์ในอุปกรณ์ของคุณหรือไม่ โดยไปที่การตั้งค่าของอุปกรณ์และตรวจสอบการอนุญาต\n",
      "\n",
      "5. **ลองใช้เบราว์เซอร์**:\n",
      "   - หากยังไม่สามารถส่งได้ ลองเข้าใช้งาน Microsoft Teams ผ่านเว็บเบราว์เซอร์ (เช่น Chrome หรือ Edge) เพื่อดูว่าสามารถส่งได้หรือไม่\n",
      "\n",
      "หากคุณลองทำตามขั้นตอนข้างต้นแล้วแต่ยังไม่สามารถแก้ไขได้ แนะนำให้ติดต่อฝ่ายสนับสนุนของ Microsoft ผ่านเว็บไซต์ [Microsoft Support](https://support.microsoft.com) หรือโทรศัพท์ที่หมายเลขที่ให้บริการในพื้นที่ของคุณ เพื่อขอความช่วยเหลือเพิ่มเติมค่ะ\n"
     ]
    }
   ],
   "source": [
    "client = OpenAI(api_key=OPENAI_API_KEY)\n",
    "\n",
    "\n",
    "# กำหนด prompt สำหรับวิเคราะห์ภาพ\n",
    "prompt = \"\"\"\n",
    "ข้อมูลต่อไปนี้ถูกรวบรวมมาจากหลายแหล่งไฟล์ เช่น PDF, Word, Excel หรือ CSV ซึ่งอาจอยู่ในรูปแบบข้อความทั่วไป ตาราง หรือภาพประกอบ\n",
    "\n",
    "\n",
    "    โปรดตอบกลับในรูปแบบที่กระชับ เข้าใจง่าย และสุภาพเสมือนเป็นเจ้าหน้าที่ให้ความช่วยเหลือ โดยยึดแนวทางดังนี้:\n",
    "\n",
    "    - ตอบตรงประเด็นที่ผู้ใช้ถาม\n",
    "    - แนะนำวิธีแก้ไขที่ตรงกับปัญหานั้น\n",
    "    - ใช้ภาษาที่สุภาพ เป็นมิตร และเข้าใจง่าย\n",
    "    - อย่าเขียนซ้ำคำถาม และไม่จำเป็นต้องเริ่มด้วยคำว่า “คำตอบ:”\n",
    "    - หากมีหลายวิธี ให้ระบุว่ามีกี่วิธี และอธิบายแต่ละวิธี\n",
    "    - พยายามแนะนำแนวทางให้ผู้ใช้ลองดำเนินการแก้ไขปัญหาด้วยตนเองก่อน โดยอธิบายทีละขั้นตอน\n",
    "    - หากต้องติดต่อเพิ่มเติม ให้แนะนำช่องทาง เช่น เว็บไซต์หรือเบอร์โทรศัพท์\n",
    "    - หากแนวทางเบื้องต้นไม่สามารถแก้ไขได้ ให้แนะนำการติดต่อเจ้าหน้าที่เป็นลำดับถัดไป\n",
    "    - **กรณีมีภาพหน้าจอที่ระบุปัญหา:** วิเคราะห์ข้อความจากภาพ และแปลความหมายให้เข้าใจง่าย\n",
    "    - **กรณีคำถามทั่วไป:** ตอบให้ตรงประเด็นโดยเน้นให้ผู้ใช้สามารถดำเนินการได้ด้วยตนเอง\n",
    "\n",
    "    กรุณาตอบคำถามต่อไปนี้ตามข้อกำหนดข้างต้น:\n",
    "\n",
    "\"\"\"\n",
    "\n",
    "# เรียก GPT-4o-mini เพื่อวิเคราะห์ภาพ\n",
    "\n",
    "file_index = 2  # เปลี่ยนตัวเลขนี้เป็นดัชนีของไฟล์ที่ต้องการ\n",
    "\n",
    "# ตรวจสอบว่าไฟล์ที่เลือกมีอยู่ใน ocr_texts\n",
    "if file_index < len(ocr_texts):\n",
    "    filename, ocr_text = ocr_texts[file_index]\n",
    "\n",
    "    # เรียก GPT-4o เพื่อวิเคราะห์ข้อความจาก OCR\n",
    "    # print(f\"กำลังวิเคราะห์ไฟล์: {filename}\")\n",
    "    response =client.chat.completions.create(\n",
    "        model=\"gpt-4o-mini\",\n",
    "        messages=[\n",
    "            {\n",
    "                \"role\": \"user\",\n",
    "                \"content\": f\"ส่งการบ้านใน Microsoft Teams ไม่ได้ \\n\\n{ocr_text}\\n\\n{prompt}\"\n",
    "            }\n",
    "        ],\n",
    "        temperature=0\n",
    "    )\n",
    "\n",
    "    # แสดงผลลัพธ์\n",
    "    # print(f\"ผลลัพธ์จาก GPT-4o-mini สำหรับไฟล์ {filename}:\")\n",
    "    print(response.choices[0].message.content)\n",
    "else:\n",
    "    print(f\"❌ ไม่มีไฟล์ที่เลือกใน index {file_index}\")"
   ]
  },
  {
   "cell_type": "code",
   "execution_count": 13,
   "id": "e656e8de",
   "metadata": {},
   "outputs": [
    {
     "data": {
      "image/jpeg": "[encoded data removed]",
      "text/plain": [
       "<IPython.core.display.Image object>"
      ]
     },
     "metadata": {},
     "output_type": "display_data"
    }
   ],
   "source": [
    "display_base64_image(images_b64[2])  "
   ]
  },
  {
   "cell_type": "code",
   "execution_count": null,
   "id": "b5211776",
   "metadata": {},
   "outputs": [],
   "source": []
  }
 ],
 "metadata": {
  "kernelspec": {
   "display_name": "venv",
   "language": "python",
   "name": "python3"
  },
  "language_info": {
   "codemirror_mode": {
    "name": "ipython",
    "version": 3
   },
   "file_extension": ".py",
   "mimetype": "text/x-python",
   "name": "python",
   "nbconvert_exporter": "python",
   "pygments_lexer": "ipython3",
   "version": "3.13.1"
  }
 },
 "nbformat": 4,
 "nbformat_minor": 5
}
