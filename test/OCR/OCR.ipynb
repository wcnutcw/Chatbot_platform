{
 "cells": [
  {
   "cell_type": "code",
   "execution_count": 93,
   "id": "daa2930f",
   "metadata": {},
   "outputs": [],
   "source": [
    "import pytesseract\n",
    "from PIL import Image\n",
    "import os \n",
    "from PIL import Image\n",
    "import pytesseract\n",
    "from openai import OpenAI"
   ]
  },
  {
   "cell_type": "code",
   "execution_count": 94,
   "id": "a4f952fd",
   "metadata": {},
   "outputs": [
    {
     "name": "stdout",
     "output_type": "stream",
     "text": [
      "ป ร ะ ม า ณ ก า ร ค่ า , ข า ย ป ลี ก , , .=. cs = FAC ค ะ ช ค า ร 6 t ค แ ค ะ ม ย า ณ\n",
      "EU pute cs\n",
      "= (-3,085) + (-5,910) ล้ า น บ า ท\n",
      "58,783 ล้ า น ห น่ ว ย\n",
      "= -3,085 + -5,910 ล้ า น บ า ท\n",
      "58,783 58,783 ล้ า น ห น่ ว ย\n",
      "= 5.25 + 10.05 ส ต า ง ค์ / ห น่ ว ย\n",
      "= -15.30 ส ต า ง ค์ / ห น่ ว ย\n",
      "\n"
     ]
    }
   ],
   "source": [
    "# OCR จากรูป\n",
    "img = Image.open('../img/Screenshot 2025-05-08 145335.png')\n",
    "custom_config = r'--oem 3 --psm 6'\n",
    "raw_text = pytesseract.image_to_string(img, lang='tha+eng', config=custom_config)\n",
    "print(raw_text)"
   ]
  },
  {
   "cell_type": "code",
   "execution_count": 96,
   "id": "18e3a0de",
   "metadata": {},
   "outputs": [
    {
     "name": "stdout",
     "output_type": "stream",
     "text": [
      "ข้อความนี้เป็นสูตรคำนวณปริมาณการค่าขายปลีก (Cost of Sales - CS) ซึ่งสามารถคำนวณได้จากการนำค่าค่าใช้จ่ายทั้งหมดไปหารกับปริมาณที่ขายได้ ในที่นี้ ค่าค่าใช้จ่ายประกอบด้วยส่วนของค่าใช้จ่ายแรก (FAC) และค่าใช้จ่ายที่สอง (t)\n",
      "\n",
      "สูตรคำนวณเป็นดังต่อไปนี้:\n",
      "\n",
      "CS = (FAC + t) / ปริมาณที่ขายได้\n",
      "\n",
      "จากข้อความที่ให้มา, ค่า FAC = -3,085 ล้านบาท, ค่า t = -5,910 ล้านบาท และปริมาณที่ขายได้ = 58,783 ล้านหน่วย\n",
      "\n",
      "ดังนั้น, เราสามารถแทนค่าเข้าไปในสูตรได้ดังนี้:\n",
      "\n",
      "CS = (-3,085 ล้านบาท + -5,910 ล้านบาท) / 58,783 ล้านหน่วย\n",
      "   = (-8,995 ล้านบาท) / 58,783 ล้านหน่วย\n",
      "   = -0.1530 บาท/หน่วย\n",
      "\n",
      "ดังนั้น, ปริมาณการค่าขายปลีก (CS) ที่คำนวณได้จากสูตรนี้คือ -15.30 สตางค์/หน่วย ซึ่งหมายความว่า สำหรับการขายทุกๆหน่วย บริษัทจะต้องจ่ายค่าใช้จ่ายรวมทั้งสิ้น 15.30 สตางค์.\n"
     ]
    }
   ],
   "source": [
    "# ตั้งค่า API Key\n",
    "OPENAI_API_KEY= os.getenv(\"OPENAI_API_KEY\")\n",
    "\n",
    "# โหลดรูปภาพ\n",
    "img = Image.open('../img/Screenshot 2025-05-08 145335.png')\n",
    "\n",
    "# ค่าคอนฟิก OCR\n",
    "custom_config = r'--oem 3 --psm 6'\n",
    "\n",
    "# แปลงข้อความจากภาพ (OCR)\n",
    "raw_text = pytesseract.image_to_string(img, lang='tha+eng', config=custom_config)\n",
    "\n",
    "# สร้าง Prompt สำหรับ GPT-4\n",
    "prompt = f\"\"\"\n",
    "กรุณาช่วยเรียบเรียงข้อความด้านล่างให้เข้าใจง่ายและสื่อสารชัดเจน โดย:\n",
    "\n",
    "1. ขยายความหมายให้ละเอียดขึ้นในแต่ละข้อ\n",
    "2. แสดงสูตรคำนวณในรูปแบบ block equation ธรรมดา (ไม่ใช้ LaTeX)\n",
    "3. แสดงขั้นตอนการแทนค่าและผลลัพธ์แบบเข้าใจง่าย\n",
    "4. ไม่ต้องแสดงหมายเหตุเรื่อง OCR หรือข้อความที่อ่านไม่ออก\n",
    "\n",
    "ข้อความต้นฉบับจาก OCR:\n",
    "\\\"\\\"\\\"{raw_text}\\\"\\\"\\\"\n",
    "\"\"\"\n",
    "\n",
    "# เรียกใช้งาน GPT-4\n",
    "client = OpenAI(api_key=OPENAI_API_KEY)\n",
    "\n",
    "response = client.chat.completions.create(\n",
    "    model=\"gpt-4\",\n",
    "    messages=[{\"role\": \"user\", \"content\": prompt}],\n",
    "    temperature=0.7\n",
    ")\n",
    "\n",
    "# แสดงผลลัพธ์ในรูปแบบอ่านง่าย\n",
    "print(response.choices[0].message.content)\n"
   ]
  }
 ],
 "metadata": {
  "kernelspec": {
   "display_name": "venv",
   "language": "python",
   "name": "python3"
  },
  "language_info": {
   "codemirror_mode": {
    "name": "ipython",
    "version": 3
   },
   "file_extension": ".py",
   "mimetype": "text/x-python",
   "name": "python",
   "nbconvert_exporter": "python",
   "pygments_lexer": "ipython3",
   "version": "3.13.1"
  }
 },
 "nbformat": 4,
 "nbformat_minor": 5
}
