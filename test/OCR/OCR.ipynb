{
 "cells": [
  {
   "cell_type": "code",
   "execution_count": 92,
   "id": "daa2930f",
   "metadata": {},
   "outputs": [],
   "source": [
    "import pytesseract\n",
    "from PIL import Image\n",
    "import os \n",
    "from PIL import Image\n",
    "import pytesseract\n",
    "from openai import OpenAI"
   ]
  },
  {
   "cell_type": "code",
   "execution_count": 91,
   "id": "a4f952fd",
   "metadata": {},
   "outputs": [
    {
     "name": "stdout",
     "output_type": "stream",
     "text": [
      "ป ร ะ ม า ณ ก า ร ค่ า , ข า ย ป ลี ก , , .=. cs = FAC ค ะ ช ค า ร 6 t ค แ ค ะ ม ย า ณ\n",
      "EU pute cs\n",
      "= (-3,085) + (-5,910) ล้ า น บ า ท\n",
      "58,783 ล้ า น ห น่ ว ย\n",
      "= -3,085 + -5,910 ล้ า น บ า ท\n",
      "58,783 58,783 ล้ า น ห น่ ว ย\n",
      "= 5.25 + 10.05 ส ต า ง ค์ / ห น่ ว ย\n",
      "= -15.30 ส ต า ง ค์ / ห น่ ว ย\n",
      "\n"
     ]
    }
   ],
   "source": [
    "# OCR จากรูป\n",
    "img = Image.open('../img/Screenshot 2025-05-08 145335.png')\n",
    "custom_config = r'--oem 3 --psm 6'\n",
    "raw_text = pytesseract.image_to_string(img, lang='tha+eng', config=custom_config)\n",
    "print(raw_text)"
   ]
  },
  {
   "cell_type": "code",
   "execution_count": 90,
   "id": "18e3a0de",
   "metadata": {},
   "outputs": [
    {
     "name": "stdout",
     "output_type": "stream",
     "text": [
      "ข้อความที่ได้รับมาจาก OCR นั้นมีส่วนที่ไม่ชัดเจนและอาจทำให้เกิดความสับสน ดังนั้น ข้าพเจ้าจะทำการปรับปรุงข้อความดังต่อไปนี้:\n",
      "\n",
      "ข้อความต้นฉบับจาก OCR แปลออกมาเป็นว่า ปริมาณการค้าขายปลีกของบริษัทนั้นมีค่าเท่ากับ FAC คือค่าสินค้าขายปลีกที่ขายได้ ที่คำนวณจากการนำราคาบาทที่ได้จากการขายสินค้าไปหารด้วยจำนวนหน่วยขายทั้งหมด\n",
      "\n",
      "สูตรคำนวณสามารถแสดงได้ดังนี้:\n",
      "\n",
      "FAC = (ราคาบาทที่ได้จากการขายสินค้า) / (จำนวนหน่วยขายทั้งหมด)\n",
      "\n",
      "ตัวอย่างการแทนค่าและคำนวณผลลัพธ์:\n",
      "\n",
      "FAC = (-3,085 ล้านบาท + -5,910 ล้านบาท) / 58,783 ล้านหน่วย\n",
      "= -8,995 ล้านบาท / 58,783 ล้านหน่วย\n",
      "= -0.1530 บาท/หน่วย\n",
      "\n",
      "หมายความว่า ค่าสินค้าขายปลีกที่ขายได้นี้มีค่าเท่ากับ -15.30 สตางค์ ต่อหน่วย.\n"
     ]
    }
   ],
   "source": [
    "# ตั้งค่า API Key\n",
    "OPENAI_API_KEY= os.getenv(\"OPENAI_API_KEY\")\n",
    "\n",
    "# โหลดรูปภาพ\n",
    "img = Image.open('../img/Screenshot 2025-05-08 145335.png')\n",
    "\n",
    "# ค่าคอนฟิก OCR\n",
    "custom_config = r'--oem 3 --psm 6'\n",
    "\n",
    "# แปลงข้อความจากภาพ (OCR)\n",
    "raw_text = pytesseract.image_to_string(img, lang='tha+eng', config=custom_config)\n",
    "\n",
    "# สร้าง Prompt สำหรับ GPT-4\n",
    "prompt = f\"\"\"\n",
    "กรุณาช่วยเรียบเรียงข้อความด้านล่างให้เข้าใจง่ายและสื่อสารชัดเจน โดย:\n",
    "\n",
    "1. ขยายความหมายให้ละเอียดขึ้นในแต่ละข้อ\n",
    "2. แสดงสูตรคำนวณในรูปแบบ block equation ธรรมดา (ไม่ใช้ LaTeX)\n",
    "3. แสดงขั้นตอนการแทนค่าและผลลัพธ์แบบเข้าใจง่าย\n",
    "4. ไม่ต้องแสดงหมายเหตุเรื่อง OCR หรือข้อความที่อ่านไม่ออก\n",
    "\n",
    "ข้อความต้นฉบับจาก OCR:\n",
    "\\\"\\\"\\\"{raw_text}\\\"\\\"\\\"\n",
    "\"\"\"\n",
    "\n",
    "# เรียกใช้งาน GPT-4\n",
    "client = OpenAI(api_key=OPENAI_API_KEY)\n",
    "\n",
    "response = client.chat.completions.create(\n",
    "    model=\"gpt-4\",\n",
    "    messages=[{\"role\": \"user\", \"content\": prompt}],\n",
    "    temperature=0.7\n",
    ")\n",
    "\n",
    "# แสดงผลลัพธ์ในรูปแบบอ่านง่าย\n",
    "print(response.choices[0].message.content)\n"
   ]
  },
  {
   "cell_type": "code",
   "execution_count": null,
   "id": "e47a6594",
   "metadata": {},
   "outputs": [],
   "source": []
  }
 ],
 "metadata": {
  "kernelspec": {
   "display_name": "venv",
   "language": "python",
   "name": "python3"
  },
  "language_info": {
   "codemirror_mode": {
    "name": "ipython",
    "version": 3
   },
   "file_extension": ".py",
   "mimetype": "text/x-python",
   "name": "python",
   "nbconvert_exporter": "python",
   "pygments_lexer": "ipython3",
   "version": "3.13.1"
  }
 },
 "nbformat": 4,
 "nbformat_minor": 5
}
