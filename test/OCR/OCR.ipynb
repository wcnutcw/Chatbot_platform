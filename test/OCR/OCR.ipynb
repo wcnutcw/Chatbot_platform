{
 "cells": [
  {
   "cell_type": "code",
   "execution_count": 9,
   "id": "a4f952fd",
   "metadata": {},
   "outputs": [
    {
     "name": "stdout",
     "output_type": "stream",
     "text": [
      "ประมาณการค่า ,ขายปลีก ,,.=«๘ *\n",
      "\n",
      "FAC nue 64 + AF yews 5\n",
      "\n",
      "ปไกาะคา 86\n",
      "\n",
      "(-3.085) + (-5.910)\n",
      "58,783\n",
      "\n",
      "-3.085 + -5,910\n",
      "\n",
      "58,783 58,783\n",
      "\n",
      "5.25 + -10.05\n",
      "\n",
      "-15.30\n",
      "\n",
      "ล้านบาท\n",
      "\n",
      "ล้านหน่วย\n",
      "\n",
      "ล้านบาท\n",
      "\n",
      "ล้านหน่วย\n",
      "สตางค์ /หน่วย\n",
      "\n",
      "สตางค์ /หน่วย\n",
      "\n"
     ]
    }
   ],
   "source": [
    "import pytesseract\n",
    "from PIL import Image\n",
    "\n",
    "# กำหนด path ให้ถูกต้องตามเครื่องของคุณ\n",
    "pytesseract.pytesseract.tesseract_cmd = r\"C:\\Program Files\\Tesseract-OCR\\tesseract.exe\"\n",
    "\n",
    "def trim_str(raw_txt):\n",
    "    new_txt = ''\n",
    "    for i in range(len(raw_txt)):\n",
    "        if ord(raw_txt[i]) != 32:\n",
    "            new_txt += raw_txt[i]\n",
    "        elif ord(raw_txt[i+1]) < 3585:\n",
    "            new_txt += raw_txt[i]\n",
    "    return new_txt \n",
    "\n",
    "if __name__ == \"__main__\":\n",
    "    img = Image.open('../img/Screenshot 2025-05-08 145335.png')\n",
    "    result = pytesseract.image_to_string(img,lang='tha+eng')\n",
    "    new_txt = trim_str(result)\n",
    "    print(new_txt)"
   ]
  },
  {
   "cell_type": "code",
   "execution_count": null,
   "id": "11384c93",
   "metadata": {},
   "outputs": [],
   "source": []
  }
 ],
 "metadata": {
  "kernelspec": {
   "display_name": "venv",
   "language": "python",
   "name": "python3"
  },
  "language_info": {
   "codemirror_mode": {
    "name": "ipython",
    "version": 3
   },
   "file_extension": ".py",
   "mimetype": "text/x-python",
   "name": "python",
   "nbconvert_exporter": "python",
   "pygments_lexer": "ipython3",
   "version": "3.13.1"
  }
 },
 "nbformat": 4,
 "nbformat_minor": 5
}
