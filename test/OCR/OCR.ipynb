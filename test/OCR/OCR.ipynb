{
 "cells": [
  {
   "cell_type": "code",
   "execution_count": 2,
   "id": "daa2930f",
   "metadata": {},
   "outputs": [
    {
     "name": "stdout",
     "output_type": "stream",
     "text": [
      "Current Directory: c:\\Users\\user\\OneDrive\\Desktop\\Test_BOT_CSV\\test\\OCR\n",
      "Env Path: c:\\Users\\user\\OneDrive\\Desktop\\Test_BOT_CSV\\venv\\.env\n"
     ]
    },
    {
     "data": {
      "text/plain": [
       "True"
      ]
     },
     "execution_count": 2,
     "metadata": {},
     "output_type": "execute_result"
    }
   ],
   "source": [
    "import pytesseract\n",
    "from PIL import Image\n",
    "import os \n",
    "from PIL import Image\n",
    "import pytesseract\n",
    "from openai import OpenAI\n",
    "from dotenv import load_dotenv\n",
    "from pathlib import Path\n",
    "\n",
    "current_directory = os.getcwd()\n",
    "print(\"Current Directory:\", current_directory)  # พิมพ์ที่อยู่ปัจจุบัน\n",
    "\n",
    "# ปรับเส้นทางไปยังไฟล์ .env ในโฟลเดอร์ venv\n",
    "env_path = Path(current_directory).parent.parent / 'venv' / '.env'\n",
    "print(\"Env Path:\", env_path)  # พิมพ์เส้นทางที่ไปยัง .env\n",
    "\n",
    "load_dotenv(dotenv_path=env_path)"
   ]
  },
  {
   "cell_type": "code",
   "execution_count": 5,
   "id": "1d55df0e",
   "metadata": {},
   "outputs": [],
   "source": [
    "# keys for the services we will use\n",
    "OPENAI_API_KEY : str \n",
    "GROQ_API_KEY : str\n",
    "LANGCHAIN_API_KEY : str\n",
    "OPENAI_API_KEY = os.getenv(\"OPENAI_API_KEY\")\n",
    "LANGCHAIN_API_KEY = os.getenv('LANGCHAIN_API_KEY')\n"
   ]
  },
  {
   "cell_type": "code",
   "execution_count": 11,
   "id": "a4f952fd",
   "metadata": {},
   "outputs": [
    {
     "name": "stdout",
     "output_type": "stream",
     "text": [
      "ป ร ะ ม า ณ ก า ร ค่ า , ข า ย ป ลี ก , , .=. cs = FAC ค ะ ช ค า ร 6 t ค แ ค ะ ม ย า ณ\n",
      "EU pute cs\n",
      "= (-3,085) + (-5,910) ล้ า น บ า ท\n",
      "58,783 ล้ า น ห น่ ว ย\n",
      "= -3,085 + -5,910 ล้ า น บ า ท\n",
      "58,783 58,783 ล้ า น ห น่ ว ย\n",
      "= 5.25 + 10.05 ส ต า ง ค์ / ห น่ ว ย\n",
      "= -15.30 ส ต า ง ค์ / ห น่ ว ย\n",
      "\n"
     ]
    }
   ],
   "source": [
    "# OCR จากรูป\n",
    "img = Image.open('../img/Screenshot 2025-05-08 145335.png')\n",
    "custom_config = r'--oem 3 --psm 6'\n",
    "raw_text = pytesseract.image_to_string(img, lang='tha+eng', config=custom_config)\n",
    "print(raw_text)"
   ]
  },
  {
   "cell_type": "code",
   "execution_count": null,
   "id": "18e3a0de",
   "metadata": {},
   "outputs": [
    {
     "name": "stdout",
     "output_type": "stream",
     "text": [
      "ข้อความด้านล่างนี้เป็นการประมาณการค่าขายปลีก โดยใช้สูตร cs = FAC คือการคำนวณค่าสินค้าที่จะขายปลีก จากค่า FAC\n",
      "\n",
      "สูตรที่ใช้คำนวณคือ:\n",
      "\n",
      "cs = (ราคาทุน - ค่าใช้จ่าย) / จำนวนสินค้า\n",
      "\n",
      "จากข้อมูลที่ให้มา, ราคาทุนคือ -3,085 ล้านบาท, ค่าใช้จ่ายคือ -5,910 ล้านบาท และจำนวนสินค้าคือ 58,783 ล้านหน่วย\n",
      "\n",
      "แทนค่าเข้าสูตรเพื่อคำนวณ:\n",
      "\n",
      "cs = (-3,085 + -5,910) / 58,783\n",
      "cs = -8,995 / 58,783\n",
      "cs = -0.1530 บาท / หน่วย\n",
      "\n",
      "แปลงค่าผลลัพธ์ให้เป็นสตางค์ (1 บาท = 100 สตางค์):\n",
      "\n",
      "cs = -0.1530 * 100\n",
      "cs = -15.30 สตางค์ / หน่วย\n",
      "\n",
      "ดังนั้น, ค่าประมาณการขายปลีกจากการคำนวณด้วยสูตร cs = FAC คือ -15.30 สตางค์ / หน่วย.\n"
     ]
    }
   ],
   "source": [
    "prompt = f\"\"\"\n",
    "กรุณาช่วยเรียบเรียงข้อความด้านล่างให้เข้าใจง่ายและสื่อสารชัดเจน โดย:\n",
    "\n",
    "1. ขยายความหมายให้ละเอียดขึ้นในแต่ละข้อ\n",
    "2. แสดงสูตรคำนวณในรูปแบบ block equation ธรรมดา (ไม่ใช้ LaTeX)\n",
    "3. แสดงขั้นตอนการแทนค่าและผลลัพธ์แบบเข้าใจง่าย\n",
    "4. ไม่ต้องแสดงหมายเหตุเรื่อง OCR หรือข้อความที่อ่านไม่ออก\n",
    "\n",
    "ข้อความต้นฉบับจาก OCR:\n",
    "\\\"\\\"\\\"{raw_text}\\\"\\\"\\\"\n",
    "\"\"\"\n",
    "\n",
    "# เรียกใช้งาน GPT-4\n",
    "client = OpenAI(api_key=OPENAI_API_KEY)\n",
    "\n",
    "response = client.chat.completions.create(\n",
    "    model=\"gpt-4\",\n",
    "    messages=[{\"role\": \"user\", \"content\": prompt}],\n",
    "    temperature=0.7\n",
    ")\n",
    "\n",
    "# แสดงผลลัพธ์ในรูปแบบอ่านง่าย\n",
    "print(response.choices[0].message.content)\n"
   ]
  },
  {
   "cell_type": "code",
   "execution_count": null,
   "id": "e47a6594",
   "metadata": {},
   "outputs": [],
   "source": []
  },
  {
   "cell_type": "code",
   "execution_count": null,
   "id": "b7026a58",
   "metadata": {},
   "outputs": [],
   "source": []
  },
  {
   "cell_type": "code",
   "execution_count": null,
   "id": "922c5f1a",
   "metadata": {},
   "outputs": [],
   "source": []
  }
 ],
 "metadata": {
  "kernelspec": {
   "display_name": "venv",
   "language": "python",
   "name": "python3"
  },
  "language_info": {
   "codemirror_mode": {
    "name": "ipython",
    "version": 3
   },
   "file_extension": ".py",
   "mimetype": "text/x-python",
   "name": "python",
   "nbconvert_exporter": "python",
   "pygments_lexer": "ipython3",
   "version": "3.13.1"
  }
 },
 "nbformat": 4,
 "nbformat_minor": 5
}
